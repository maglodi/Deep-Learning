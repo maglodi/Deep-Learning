{
 "cells": [
  {
   "cell_type": "code",
   "execution_count": 4,
   "metadata": {
    "colab": {
     "base_uri": "https://localhost:8080/",
     "height": 35
    },
    "colab_type": "code",
    "executionInfo": {
     "elapsed": 1133,
     "status": "ok",
     "timestamp": 1581576197072,
     "user": {
      "displayName": "Santhosh Kumar M",
      "photoUrl": "https://lh3.googleusercontent.com/a-/AAuE7mDEAAVC_h5Kh3CHbXeBmjkaLylExLnJ2N8_LKLBRA=s64",
      "userId": "05728292728347566152"
     },
     "user_tz": -330
    },
    "id": "bMfP9HLXLY5U",
    "outputId": "e812cb69-2f54-42e3-aff1-eefd9965dd03"
   },
   "outputs": [
    {
     "data": {
      "text/plain": [
       "'2.1.0'"
      ]
     },
     "execution_count": 4,
     "metadata": {
      "tags": []
     },
     "output_type": "execute_result"
    }
   ],
   "source": [
    "import tensorflow as tf\n",
    "tf.__version__\n"
   ]
  },
  {
   "cell_type": "code",
   "execution_count": 5,
   "metadata": {
    "colab": {
     "base_uri": "https://localhost:8080/",
     "height": 644
    },
    "colab_type": "code",
    "executionInfo": {
     "elapsed": 6084,
     "status": "ok",
     "timestamp": 1581576202036,
     "user": {
      "displayName": "Santhosh Kumar M",
      "photoUrl": "https://lh3.googleusercontent.com/a-/AAuE7mDEAAVC_h5Kh3CHbXeBmjkaLylExLnJ2N8_LKLBRA=s64",
      "userId": "05728292728347566152"
     },
     "user_tz": -330
    },
    "id": "yGCLDPtbLhQ4",
    "outputId": "a9d98f5e-5eed-4cd2-da23-a5f4d7d0a2a2"
   },
   "outputs": [
    {
     "name": "stdout",
     "output_type": "stream",
     "text": [
      "Requirement already up-to-date: tensorflow-gpu in /usr/local/lib/python3.6/dist-packages (2.1.0)\n",
      "Requirement already satisfied, skipping upgrade: gast==0.2.2 in /usr/local/lib/python3.6/dist-packages (from tensorflow-gpu) (0.2.2)\n",
      "Requirement already satisfied, skipping upgrade: termcolor>=1.1.0 in /usr/local/lib/python3.6/dist-packages (from tensorflow-gpu) (1.1.0)\n",
      "Requirement already satisfied, skipping upgrade: numpy<2.0,>=1.16.0 in /usr/local/lib/python3.6/dist-packages (from tensorflow-gpu) (1.17.5)\n",
      "Requirement already satisfied, skipping upgrade: astor>=0.6.0 in /usr/local/lib/python3.6/dist-packages (from tensorflow-gpu) (0.8.1)\n",
      "Requirement already satisfied, skipping upgrade: protobuf>=3.8.0 in /usr/local/lib/python3.6/dist-packages (from tensorflow-gpu) (3.10.0)\n",
      "Requirement already satisfied, skipping upgrade: tensorboard<2.2.0,>=2.1.0 in /usr/local/lib/python3.6/dist-packages (from tensorflow-gpu) (2.1.0)\n",
      "Requirement already satisfied, skipping upgrade: wrapt>=1.11.1 in /usr/local/lib/python3.6/dist-packages (from tensorflow-gpu) (1.11.2)\n",
      "Requirement already satisfied, skipping upgrade: wheel>=0.26; python_version >= \"3\" in /usr/local/lib/python3.6/dist-packages (from tensorflow-gpu) (0.34.2)\n",
      "Requirement already satisfied, skipping upgrade: six>=1.12.0 in /usr/local/lib/python3.6/dist-packages (from tensorflow-gpu) (1.12.0)\n",
      "Requirement already satisfied, skipping upgrade: tensorflow-estimator<2.2.0,>=2.1.0rc0 in /usr/local/lib/python3.6/dist-packages (from tensorflow-gpu) (2.1.0)\n",
      "Requirement already satisfied, skipping upgrade: scipy==1.4.1; python_version >= \"3\" in /usr/local/lib/python3.6/dist-packages (from tensorflow-gpu) (1.4.1)\n",
      "Requirement already satisfied, skipping upgrade: keras-applications>=1.0.8 in /usr/local/lib/python3.6/dist-packages (from tensorflow-gpu) (1.0.8)\n",
      "Requirement already satisfied, skipping upgrade: google-pasta>=0.1.6 in /usr/local/lib/python3.6/dist-packages (from tensorflow-gpu) (0.1.8)\n",
      "Requirement already satisfied, skipping upgrade: grpcio>=1.8.6 in /usr/local/lib/python3.6/dist-packages (from tensorflow-gpu) (1.15.0)\n",
      "Requirement already satisfied, skipping upgrade: opt-einsum>=2.3.2 in /usr/local/lib/python3.6/dist-packages (from tensorflow-gpu) (3.1.0)\n",
      "Requirement already satisfied, skipping upgrade: keras-preprocessing>=1.1.0 in /usr/local/lib/python3.6/dist-packages (from tensorflow-gpu) (1.1.0)\n",
      "Requirement already satisfied, skipping upgrade: absl-py>=0.7.0 in /usr/local/lib/python3.6/dist-packages (from tensorflow-gpu) (0.9.0)\n",
      "Requirement already satisfied, skipping upgrade: setuptools in /usr/local/lib/python3.6/dist-packages (from protobuf>=3.8.0->tensorflow-gpu) (45.1.0)\n",
      "Requirement already satisfied, skipping upgrade: requests<3,>=2.21.0 in /usr/local/lib/python3.6/dist-packages (from tensorboard<2.2.0,>=2.1.0->tensorflow-gpu) (2.21.0)\n",
      "Requirement already satisfied, skipping upgrade: markdown>=2.6.8 in /usr/local/lib/python3.6/dist-packages (from tensorboard<2.2.0,>=2.1.0->tensorflow-gpu) (3.1.1)\n",
      "Requirement already satisfied, skipping upgrade: google-auth-oauthlib<0.5,>=0.4.1 in /usr/local/lib/python3.6/dist-packages (from tensorboard<2.2.0,>=2.1.0->tensorflow-gpu) (0.4.1)\n",
      "Requirement already satisfied, skipping upgrade: werkzeug>=0.11.15 in /usr/local/lib/python3.6/dist-packages (from tensorboard<2.2.0,>=2.1.0->tensorflow-gpu) (0.16.1)\n",
      "Requirement already satisfied, skipping upgrade: google-auth<2,>=1.6.3 in /usr/local/lib/python3.6/dist-packages (from tensorboard<2.2.0,>=2.1.0->tensorflow-gpu) (1.11.0)\n",
      "Requirement already satisfied, skipping upgrade: h5py in /usr/local/lib/python3.6/dist-packages (from keras-applications>=1.0.8->tensorflow-gpu) (2.8.0)\n",
      "Requirement already satisfied, skipping upgrade: chardet<3.1.0,>=3.0.2 in /usr/local/lib/python3.6/dist-packages (from requests<3,>=2.21.0->tensorboard<2.2.0,>=2.1.0->tensorflow-gpu) (3.0.4)\n",
      "Requirement already satisfied, skipping upgrade: urllib3<1.25,>=1.21.1 in /usr/local/lib/python3.6/dist-packages (from requests<3,>=2.21.0->tensorboard<2.2.0,>=2.1.0->tensorflow-gpu) (1.24.3)\n",
      "Requirement already satisfied, skipping upgrade: certifi>=2017.4.17 in /usr/local/lib/python3.6/dist-packages (from requests<3,>=2.21.0->tensorboard<2.2.0,>=2.1.0->tensorflow-gpu) (2019.11.28)\n",
      "Requirement already satisfied, skipping upgrade: idna<2.9,>=2.5 in /usr/local/lib/python3.6/dist-packages (from requests<3,>=2.21.0->tensorboard<2.2.0,>=2.1.0->tensorflow-gpu) (2.8)\n",
      "Requirement already satisfied, skipping upgrade: requests-oauthlib>=0.7.0 in /usr/local/lib/python3.6/dist-packages (from google-auth-oauthlib<0.5,>=0.4.1->tensorboard<2.2.0,>=2.1.0->tensorflow-gpu) (1.3.0)\n",
      "Requirement already satisfied, skipping upgrade: cachetools<5.0,>=2.0.0 in /usr/local/lib/python3.6/dist-packages (from google-auth<2,>=1.6.3->tensorboard<2.2.0,>=2.1.0->tensorflow-gpu) (4.0.0)\n",
      "Requirement already satisfied, skipping upgrade: pyasn1-modules>=0.2.1 in /usr/local/lib/python3.6/dist-packages (from google-auth<2,>=1.6.3->tensorboard<2.2.0,>=2.1.0->tensorflow-gpu) (0.2.8)\n",
      "Requirement already satisfied, skipping upgrade: rsa<4.1,>=3.1.4 in /usr/local/lib/python3.6/dist-packages (from google-auth<2,>=1.6.3->tensorboard<2.2.0,>=2.1.0->tensorflow-gpu) (4.0)\n",
      "Requirement already satisfied, skipping upgrade: oauthlib>=3.0.0 in /usr/local/lib/python3.6/dist-packages (from requests-oauthlib>=0.7.0->google-auth-oauthlib<0.5,>=0.4.1->tensorboard<2.2.0,>=2.1.0->tensorflow-gpu) (3.1.0)\n",
      "Requirement already satisfied, skipping upgrade: pyasn1<0.5.0,>=0.4.6 in /usr/local/lib/python3.6/dist-packages (from pyasn1-modules>=0.2.1->google-auth<2,>=1.6.3->tensorboard<2.2.0,>=2.1.0->tensorflow-gpu) (0.4.8)\n"
     ]
    }
   ],
   "source": [
    "pip install --upgrade tensorflow-gpu"
   ]
  },
  {
   "cell_type": "code",
   "execution_count": 6,
   "metadata": {
    "colab": {
     "base_uri": "https://localhost:8080/",
     "height": 35
    },
    "colab_type": "code",
    "executionInfo": {
     "elapsed": 6073,
     "status": "ok",
     "timestamp": 1581576202039,
     "user": {
      "displayName": "Santhosh Kumar M",
      "photoUrl": "https://lh3.googleusercontent.com/a-/AAuE7mDEAAVC_h5Kh3CHbXeBmjkaLylExLnJ2N8_LKLBRA=s64",
      "userId": "05728292728347566152"
     },
     "user_tz": -330
    },
    "id": "_q4CLzDYMmZ_",
    "outputId": "5c98d097-3d5a-42b6-d0b8-8e729df11227"
   },
   "outputs": [
    {
     "data": {
      "text/plain": [
       "'2.1.0'"
      ]
     },
     "execution_count": 6,
     "metadata": {
      "tags": []
     },
     "output_type": "execute_result"
    }
   ],
   "source": [
    "import tensorflow as tf\n",
    "tf.__version__"
   ]
  },
  {
   "cell_type": "code",
   "execution_count": 0,
   "metadata": {
    "colab": {},
    "colab_type": "code",
    "id": "T624OCgfLqsE"
   },
   "outputs": [],
   "source": [
    "from tensorflow.keras.models import Sequential\n",
    "from tensorflow.keras.layers import Dense, Conv2D, MaxPooling2D, Dropout, Flatten, BatchNormalization\n",
    "from keras.preprocessing.image import ImageDataGenerator\n",
    "from keras.preprocessing import image"
   ]
  },
  {
   "cell_type": "code",
   "execution_count": 0,
   "metadata": {
    "colab": {},
    "colab_type": "code",
    "id": "JiyTXyeJMcBf"
   },
   "outputs": [],
   "source": [
    "from tensorflow.keras.datasets import cifar10"
   ]
  },
  {
   "cell_type": "code",
   "execution_count": 9,
   "metadata": {
    "colab": {
     "base_uri": "https://localhost:8080/",
     "height": 52
    },
    "colab_type": "code",
    "executionInfo": {
     "elapsed": 14877,
     "status": "ok",
     "timestamp": 1581576210878,
     "user": {
      "displayName": "Santhosh Kumar M",
      "photoUrl": "https://lh3.googleusercontent.com/a-/AAuE7mDEAAVC_h5Kh3CHbXeBmjkaLylExLnJ2N8_LKLBRA=s64",
      "userId": "05728292728347566152"
     },
     "user_tz": -330
    },
    "id": "9A-ZYj5sM7lW",
    "outputId": "f34d9797-7380-4bfe-f0da-b2ae7f5d5043"
   },
   "outputs": [
    {
     "name": "stdout",
     "output_type": "stream",
     "text": [
      "Downloading data from https://www.cs.toronto.edu/~kriz/cifar-10-python.tar.gz\n",
      "170500096/170498071 [==============================] - 6s 0us/step\n"
     ]
    }
   ],
   "source": [
    "(x_train, y_train), (x_test, y_test) = cifar10.load_data()"
   ]
  },
  {
   "cell_type": "code",
   "execution_count": 10,
   "metadata": {
    "colab": {
     "base_uri": "https://localhost:8080/",
     "height": 35
    },
    "colab_type": "code",
    "executionInfo": {
     "elapsed": 14863,
     "status": "ok",
     "timestamp": 1581576210879,
     "user": {
      "displayName": "Santhosh Kumar M",
      "photoUrl": "https://lh3.googleusercontent.com/a-/AAuE7mDEAAVC_h5Kh3CHbXeBmjkaLylExLnJ2N8_LKLBRA=s64",
      "userId": "05728292728347566152"
     },
     "user_tz": -330
    },
    "id": "h6XIcgQZNoFu",
    "outputId": "685d07ab-3d26-422e-ec78-b01745871ef7"
   },
   "outputs": [
    {
     "data": {
      "text/plain": [
       "(50000, 32, 32, 3)"
      ]
     },
     "execution_count": 10,
     "metadata": {
      "tags": []
     },
     "output_type": "execute_result"
    }
   ],
   "source": [
    "x_train.shape"
   ]
  },
  {
   "cell_type": "code",
   "execution_count": 11,
   "metadata": {
    "colab": {
     "base_uri": "https://localhost:8080/",
     "height": 35
    },
    "colab_type": "code",
    "executionInfo": {
     "elapsed": 14843,
     "status": "ok",
     "timestamp": 1581576210879,
     "user": {
      "displayName": "Santhosh Kumar M",
      "photoUrl": "https://lh3.googleusercontent.com/a-/AAuE7mDEAAVC_h5Kh3CHbXeBmjkaLylExLnJ2N8_LKLBRA=s64",
      "userId": "05728292728347566152"
     },
     "user_tz": -330
    },
    "id": "XSBBuU8AOSTV",
    "outputId": "142d92ad-cdda-4b0a-cb48-b0767f0a4407"
   },
   "outputs": [
    {
     "data": {
      "text/plain": [
       "(10000, 32, 32, 3)"
      ]
     },
     "execution_count": 11,
     "metadata": {
      "tags": []
     },
     "output_type": "execute_result"
    }
   ],
   "source": [
    "x_test.shape"
   ]
  },
  {
   "cell_type": "code",
   "execution_count": 0,
   "metadata": {
    "colab": {},
    "colab_type": "code",
    "id": "wPjzTUvwOXZv"
   },
   "outputs": [],
   "source": [
    "epochs = 10\n",
    "batch_size = 16"
   ]
  },
  {
   "cell_type": "code",
   "execution_count": 0,
   "metadata": {
    "colab": {},
    "colab_type": "code",
    "id": "_6V3ynSMOgmw"
   },
   "outputs": [],
   "source": [
    "x_train = x_train/255\n",
    "x_test = x_test/255"
   ]
  },
  {
   "cell_type": "code",
   "execution_count": 0,
   "metadata": {
    "colab": {},
    "colab_type": "code",
    "id": "eLRwYicWQo_O"
   },
   "outputs": [],
   "source": [
    "model = Sequential()\n",
    "model.add(Conv2D(32, (3, 3), padding='same', activation='relu', input_shape=(32, 32, 3)))\n",
    "model.add(Conv2D(32, (3, 3), activation='relu'))\n",
    "model.add(MaxPooling2D(pool_size=(2, 2)))\n",
    "\n",
    "model.add(Conv2D(64, (3, 3), padding='same', activation='relu'))\n",
    "model.add(Conv2D(64, (3, 3), activation='relu'))\n",
    "model.add(MaxPooling2D(pool_size=(2, 2)))\n",
    "\n",
    "model.add(Conv2D(64, (3, 3), padding='same', activation='relu'))\n",
    "model.add(Conv2D(64, (3, 3), activation='relu'))\n",
    "model.add(MaxPooling2D(pool_size=(2, 2)))\n",
    "\n",
    "model.add(Flatten())\n",
    "model.add(Dense(512, activation='relu'))\n",
    "model.add(Dropout(0.2))\n",
    "model.add(Dense(10, activation='softmax'))"
   ]
  },
  {
   "cell_type": "code",
   "execution_count": 0,
   "metadata": {
    "colab": {},
    "colab_type": "code",
    "id": "CWEh8qw0SyIs"
   },
   "outputs": [],
   "source": [
    "# Compile the keras model     for multiclass, the loss is categorical cross entroy and for binary, it is binary cross entropy\n",
    "model.compile(loss = 'sparse_categorical_crossentropy', optimizer = 'adam', metrics=['sparse_categorical_accuracy'])"
   ]
  },
  {
   "cell_type": "code",
   "execution_count": 16,
   "metadata": {
    "colab": {
     "base_uri": "https://localhost:8080/",
     "height": 1000
    },
    "colab_type": "code",
    "executionInfo": {
     "elapsed": 93060,
     "status": "ok",
     "timestamp": 1581576349976,
     "user": {
      "displayName": "Santhosh Kumar M",
      "photoUrl": "https://lh3.googleusercontent.com/a-/AAuE7mDEAAVC_h5Kh3CHbXeBmjkaLylExLnJ2N8_LKLBRA=s64",
      "userId": "05728292728347566152"
     },
     "user_tz": -330
    },
    "id": "WhhK987ZTBPG",
    "outputId": "7d3be941-aa7f-4506-d373-1e5c4bc8e0ba"
   },
   "outputs": [
    {
     "name": "stdout",
     "output_type": "stream",
     "text": [
      "Train on 50000 samples, validate on 10000 samples\n",
      "Epoch 1/50\n",
      "50000/50000 [==============================] - 9s 186us/sample - loss: 1.9271 - sparse_categorical_accuracy: 0.2836 - val_loss: 1.6209 - val_sparse_categorical_accuracy: 0.4049\n",
      "Epoch 2/50\n",
      "50000/50000 [==============================] - 3s 51us/sample - loss: 1.5381 - sparse_categorical_accuracy: 0.4319 - val_loss: 1.4403 - val_sparse_categorical_accuracy: 0.4786\n",
      "Epoch 3/50\n",
      "50000/50000 [==============================] - 3s 52us/sample - loss: 1.3401 - sparse_categorical_accuracy: 0.5151 - val_loss: 1.2967 - val_sparse_categorical_accuracy: 0.5382\n",
      "Epoch 4/50\n",
      "50000/50000 [==============================] - 3s 52us/sample - loss: 1.2015 - sparse_categorical_accuracy: 0.5664 - val_loss: 1.1315 - val_sparse_categorical_accuracy: 0.5942\n",
      "Epoch 5/50\n",
      "50000/50000 [==============================] - 3s 52us/sample - loss: 1.1082 - sparse_categorical_accuracy: 0.6034 - val_loss: 1.0874 - val_sparse_categorical_accuracy: 0.6082\n",
      "Epoch 6/50\n",
      "50000/50000 [==============================] - 3s 51us/sample - loss: 1.0238 - sparse_categorical_accuracy: 0.6339 - val_loss: 1.0118 - val_sparse_categorical_accuracy: 0.6425\n",
      "Epoch 7/50\n",
      "50000/50000 [==============================] - 3s 51us/sample - loss: 0.9468 - sparse_categorical_accuracy: 0.6641 - val_loss: 0.9551 - val_sparse_categorical_accuracy: 0.6579\n",
      "Epoch 8/50\n",
      "50000/50000 [==============================] - 3s 52us/sample - loss: 0.8973 - sparse_categorical_accuracy: 0.6823 - val_loss: 0.9380 - val_sparse_categorical_accuracy: 0.6705\n",
      "Epoch 9/50\n",
      "50000/50000 [==============================] - 3s 51us/sample - loss: 0.8395 - sparse_categorical_accuracy: 0.7034 - val_loss: 0.8853 - val_sparse_categorical_accuracy: 0.6877\n",
      "Epoch 10/50\n",
      "50000/50000 [==============================] - 3s 51us/sample - loss: 0.7962 - sparse_categorical_accuracy: 0.7195 - val_loss: 0.8502 - val_sparse_categorical_accuracy: 0.7030\n",
      "Epoch 11/50\n",
      "50000/50000 [==============================] - 3s 51us/sample - loss: 0.7652 - sparse_categorical_accuracy: 0.7315 - val_loss: 0.8461 - val_sparse_categorical_accuracy: 0.7007\n",
      "Epoch 12/50\n",
      "50000/50000 [==============================] - 3s 51us/sample - loss: 0.7281 - sparse_categorical_accuracy: 0.7436 - val_loss: 0.8145 - val_sparse_categorical_accuracy: 0.7117\n",
      "Epoch 13/50\n",
      "50000/50000 [==============================] - 3s 52us/sample - loss: 0.6840 - sparse_categorical_accuracy: 0.7602 - val_loss: 0.8016 - val_sparse_categorical_accuracy: 0.7209\n",
      "Epoch 14/50\n",
      "50000/50000 [==============================] - 3s 51us/sample - loss: 0.6523 - sparse_categorical_accuracy: 0.7719 - val_loss: 0.7779 - val_sparse_categorical_accuracy: 0.7307\n",
      "Epoch 15/50\n",
      "50000/50000 [==============================] - 3s 54us/sample - loss: 0.6219 - sparse_categorical_accuracy: 0.7817 - val_loss: 0.8154 - val_sparse_categorical_accuracy: 0.7251\n",
      "Epoch 16/50\n",
      "50000/50000 [==============================] - 3s 53us/sample - loss: 0.5977 - sparse_categorical_accuracy: 0.7920 - val_loss: 0.7747 - val_sparse_categorical_accuracy: 0.7323\n",
      "Epoch 17/50\n",
      "50000/50000 [==============================] - 3s 52us/sample - loss: 0.5624 - sparse_categorical_accuracy: 0.8030 - val_loss: 0.7651 - val_sparse_categorical_accuracy: 0.7401\n",
      "Epoch 18/50\n",
      "50000/50000 [==============================] - 3s 52us/sample - loss: 0.5448 - sparse_categorical_accuracy: 0.8093 - val_loss: 0.7438 - val_sparse_categorical_accuracy: 0.7489\n",
      "Epoch 19/50\n",
      "50000/50000 [==============================] - 3s 53us/sample - loss: 0.5139 - sparse_categorical_accuracy: 0.8194 - val_loss: 0.7218 - val_sparse_categorical_accuracy: 0.7556\n",
      "Epoch 20/50\n",
      "50000/50000 [==============================] - 3s 52us/sample - loss: 0.5019 - sparse_categorical_accuracy: 0.8226 - val_loss: 0.7176 - val_sparse_categorical_accuracy: 0.7573\n",
      "Epoch 21/50\n",
      "50000/50000 [==============================] - 3s 52us/sample - loss: 0.4785 - sparse_categorical_accuracy: 0.8311 - val_loss: 0.7109 - val_sparse_categorical_accuracy: 0.7647\n",
      "Epoch 22/50\n",
      "50000/50000 [==============================] - 3s 52us/sample - loss: 0.4423 - sparse_categorical_accuracy: 0.8453 - val_loss: 0.6953 - val_sparse_categorical_accuracy: 0.7671\n",
      "Epoch 23/50\n",
      "50000/50000 [==============================] - 3s 52us/sample - loss: 0.4230 - sparse_categorical_accuracy: 0.8502 - val_loss: 0.7567 - val_sparse_categorical_accuracy: 0.7541\n",
      "Epoch 24/50\n",
      "50000/50000 [==============================] - 3s 51us/sample - loss: 0.4055 - sparse_categorical_accuracy: 0.8559 - val_loss: 0.7517 - val_sparse_categorical_accuracy: 0.7569\n",
      "Epoch 25/50\n",
      "50000/50000 [==============================] - 3s 52us/sample - loss: 0.3896 - sparse_categorical_accuracy: 0.8627 - val_loss: 0.7548 - val_sparse_categorical_accuracy: 0.7610\n",
      "Epoch 26/50\n",
      "50000/50000 [==============================] - 3s 52us/sample - loss: 0.3660 - sparse_categorical_accuracy: 0.8697 - val_loss: 0.7156 - val_sparse_categorical_accuracy: 0.7720\n",
      "Epoch 27/50\n",
      "50000/50000 [==============================] - 3s 52us/sample - loss: 0.3306 - sparse_categorical_accuracy: 0.8833 - val_loss: 0.7949 - val_sparse_categorical_accuracy: 0.7573\n",
      "Epoch 28/50\n",
      "50000/50000 [==============================] - 3s 52us/sample - loss: 0.3169 - sparse_categorical_accuracy: 0.8868 - val_loss: 0.7754 - val_sparse_categorical_accuracy: 0.7652\n",
      "Epoch 29/50\n",
      "50000/50000 [==============================] - 3s 51us/sample - loss: 0.2992 - sparse_categorical_accuracy: 0.8945 - val_loss: 0.7566 - val_sparse_categorical_accuracy: 0.7710\n",
      "Epoch 30/50\n",
      "50000/50000 [==============================] - 3s 52us/sample - loss: 0.2780 - sparse_categorical_accuracy: 0.9006 - val_loss: 0.7882 - val_sparse_categorical_accuracy: 0.7765\n",
      "Epoch 31/50\n",
      "50000/50000 [==============================] - 3s 52us/sample - loss: 0.2689 - sparse_categorical_accuracy: 0.9041 - val_loss: 0.8101 - val_sparse_categorical_accuracy: 0.7691\n",
      "Epoch 32/50\n",
      "50000/50000 [==============================] - 3s 51us/sample - loss: 0.2562 - sparse_categorical_accuracy: 0.9086 - val_loss: 0.8672 - val_sparse_categorical_accuracy: 0.7578\n",
      "Epoch 33/50\n",
      "50000/50000 [==============================] - 3s 51us/sample - loss: 0.2351 - sparse_categorical_accuracy: 0.9157 - val_loss: 0.8327 - val_sparse_categorical_accuracy: 0.7662\n",
      "Epoch 34/50\n",
      "50000/50000 [==============================] - 3s 52us/sample - loss: 0.2257 - sparse_categorical_accuracy: 0.9198 - val_loss: 0.8812 - val_sparse_categorical_accuracy: 0.7706\n",
      "Epoch 35/50\n",
      "50000/50000 [==============================] - 3s 52us/sample - loss: 0.2091 - sparse_categorical_accuracy: 0.9235 - val_loss: 0.9155 - val_sparse_categorical_accuracy: 0.7622\n",
      "Epoch 36/50\n",
      "50000/50000 [==============================] - 3s 52us/sample - loss: 0.1897 - sparse_categorical_accuracy: 0.9326 - val_loss: 0.9155 - val_sparse_categorical_accuracy: 0.7649\n",
      "Epoch 37/50\n",
      "50000/50000 [==============================] - 3s 51us/sample - loss: 0.1848 - sparse_categorical_accuracy: 0.9336 - val_loss: 0.9333 - val_sparse_categorical_accuracy: 0.7669\n",
      "Epoch 38/50\n",
      "50000/50000 [==============================] - 3s 52us/sample - loss: 0.1687 - sparse_categorical_accuracy: 0.9402 - val_loss: 0.9621 - val_sparse_categorical_accuracy: 0.7709\n",
      "Epoch 39/50\n",
      "50000/50000 [==============================] - 3s 52us/sample - loss: 0.1468 - sparse_categorical_accuracy: 0.9478 - val_loss: 0.9909 - val_sparse_categorical_accuracy: 0.7667\n",
      "Epoch 40/50\n",
      "50000/50000 [==============================] - 3s 52us/sample - loss: 0.1476 - sparse_categorical_accuracy: 0.9481 - val_loss: 1.0240 - val_sparse_categorical_accuracy: 0.7690\n",
      "Epoch 41/50\n",
      "50000/50000 [==============================] - 3s 51us/sample - loss: 0.1290 - sparse_categorical_accuracy: 0.9539 - val_loss: 1.0454 - val_sparse_categorical_accuracy: 0.7668\n",
      "Epoch 42/50\n",
      "50000/50000 [==============================] - 3s 53us/sample - loss: 0.1294 - sparse_categorical_accuracy: 0.9525 - val_loss: 1.0806 - val_sparse_categorical_accuracy: 0.7591\n",
      "Epoch 43/50\n",
      "50000/50000 [==============================] - 3s 52us/sample - loss: 0.1259 - sparse_categorical_accuracy: 0.9547 - val_loss: 1.0968 - val_sparse_categorical_accuracy: 0.7597\n",
      "Epoch 44/50\n",
      "50000/50000 [==============================] - 3s 52us/sample - loss: 0.1122 - sparse_categorical_accuracy: 0.9600 - val_loss: 1.1643 - val_sparse_categorical_accuracy: 0.7668\n",
      "Epoch 45/50\n",
      "50000/50000 [==============================] - 3s 52us/sample - loss: 0.1262 - sparse_categorical_accuracy: 0.9539 - val_loss: 1.1242 - val_sparse_categorical_accuracy: 0.7636\n",
      "Epoch 46/50\n",
      "50000/50000 [==============================] - 3s 52us/sample - loss: 0.1124 - sparse_categorical_accuracy: 0.9597 - val_loss: 1.1262 - val_sparse_categorical_accuracy: 0.7666\n",
      "Epoch 47/50\n",
      "50000/50000 [==============================] - 3s 53us/sample - loss: 0.1032 - sparse_categorical_accuracy: 0.9626 - val_loss: 1.2073 - val_sparse_categorical_accuracy: 0.7670\n",
      "Epoch 48/50\n",
      "50000/50000 [==============================] - 3s 52us/sample - loss: 0.0887 - sparse_categorical_accuracy: 0.9691 - val_loss: 1.2128 - val_sparse_categorical_accuracy: 0.7643\n",
      "Epoch 49/50\n",
      "50000/50000 [==============================] - 3s 51us/sample - loss: 0.0868 - sparse_categorical_accuracy: 0.9690 - val_loss: 1.2746 - val_sparse_categorical_accuracy: 0.7678\n",
      "Epoch 50/50\n",
      "50000/50000 [==============================] - 3s 53us/sample - loss: 0.0793 - sparse_categorical_accuracy: 0.9716 - val_loss: 1.3404 - val_sparse_categorical_accuracy: 0.7615\n",
      "CPU times: user 1min 40s, sys: 23.7 s, total: 2min 4s\n",
      "Wall time: 2min 17s\n"
     ]
    },
    {
     "data": {
      "text/plain": [
       "<tensorflow.python.keras.callbacks.History at 0x7f9156504f98>"
      ]
     },
     "execution_count": 16,
     "metadata": {
      "tags": []
     },
     "output_type": "execute_result"
    }
   ],
   "source": [
    "%%time\n",
    "# fit the keras model on the dataset\n",
    "model.fit(x_train, y_train, epochs=50, batch_size=600, validation_data = (x_test, y_test))"
   ]
  }
 ],
 "metadata": {
  "accelerator": "GPU",
  "colab": {
   "collapsed_sections": [],
   "name": "ConvolutionNeuralNetwork.ipynb",
   "provenance": []
  },
  "kernelspec": {
   "display_name": "Python 3",
   "language": "python",
   "name": "python3"
  },
  "language_info": {
   "codemirror_mode": {
    "name": "ipython",
    "version": 3
   },
   "file_extension": ".py",
   "mimetype": "text/x-python",
   "name": "python",
   "nbconvert_exporter": "python",
   "pygments_lexer": "ipython3",
   "version": "3.7.3"
  }
 },
 "nbformat": 4,
 "nbformat_minor": 1
}
