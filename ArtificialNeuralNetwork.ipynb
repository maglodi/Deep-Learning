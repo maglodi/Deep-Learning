{
 "cells": [
  {
   "cell_type": "markdown",
   "metadata": {},
   "source": [
    "Using TF version 1"
   ]
  },
  {
   "cell_type": "code",
   "execution_count": null,
   "metadata": {},
   "outputs": [],
   "source": [
    "import tensorflow as tf\n",
    "tf.__version__\n",
    "\n",
    "# pip install tensorflow-gpu==1.14"
   ]
  },
  {
   "cell_type": "code",
   "execution_count": 0,
   "metadata": {
    "colab": {},
    "colab_type": "code",
    "id": "vOSDl2kpby7b"
   },
   "outputs": [],
   "source": [
    "x1 = tf.constant([1, 2, 3, 4])\n",
    "x2 = tf.constant([5, 6, 7, 8])"
   ]
  },
  {
   "cell_type": "code",
   "execution_count": 0,
   "metadata": {
    "colab": {},
    "colab_type": "code",
    "id": "foRiZOKhixwd"
   },
   "outputs": [],
   "source": [
    "result = tf.multiply(x1, x2)"
   ]
  },
  {
   "cell_type": "code",
   "execution_count": 4,
   "metadata": {
    "colab": {
     "base_uri": "https://localhost:8080/",
     "height": 35
    },
    "colab_type": "code",
    "executionInfo": {
     "elapsed": 6601,
     "status": "ok",
     "timestamp": 1581488934481,
     "user": {
      "displayName": "MAVYA.A Aglodia",
      "photoUrl": "https://lh3.googleusercontent.com/a-/AAuE7mByULYoTF5EC1bdOorKMYnTe5fPevMwNBkKBSdb=s64",
      "userId": "04315996873656669647"
     },
     "user_tz": -330
    },
    "id": "R2Upt58zmeiC",
    "outputId": "3bf41ad8-052a-4fad-9648-717beca65a66"
   },
   "outputs": [
    {
     "name": "stdout",
     "output_type": "stream",
     "text": [
      "Tensor(\"Mul:0\", shape=(4,), dtype=int32)\n"
     ]
    }
   ],
   "source": [
    "# #Initialize the session : In order to get the result, we need to start the session\n",
    "# sess = tf.Session()\n",
    "print(result)"
   ]
  },
  {
   "cell_type": "code",
   "execution_count": 0,
   "metadata": {
    "colab": {},
    "colab_type": "code",
    "id": "u1WTs4-TmxGu"
   },
   "outputs": [],
   "source": [
    "# print(sess.run(result))"
   ]
  },
  {
   "cell_type": "code",
   "execution_count": 0,
   "metadata": {
    "colab": {},
    "colab_type": "code",
    "id": "kheOq4Tni-Wk"
   },
   "outputs": [],
   "source": [
    "# #close the session\n",
    "# sess.close()"
   ]
  },
  {
   "cell_type": "code",
   "execution_count": 7,
   "metadata": {
    "colab": {
     "base_uri": "https://localhost:8080/",
     "height": 1000
    },
    "colab_type": "code",
    "executionInfo": {
     "elapsed": 83864,
     "status": "ok",
     "timestamp": 1581489011872,
     "user": {
      "displayName": "MAVYA.A Aglodia",
      "photoUrl": "https://lh3.googleusercontent.com/a-/AAuE7mByULYoTF5EC1bdOorKMYnTe5fPevMwNBkKBSdb=s64",
      "userId": "04315996873656669647"
     },
     "user_tz": -330
    },
    "id": "tUhYN6jAnqAi",
    "outputId": "652e3128-0bf4-46ce-8f9c-6032dc565215"
   },
   "outputs": [
    {
     "name": "stdout",
     "output_type": "stream",
     "text": [
      "Collecting tensorflow-gpu\n",
      "\u001b[?25l  Downloading https://files.pythonhosted.org/packages/0a/93/c7bca39b23aae45cd2e85ad3871c81eccc63b9c5276e926511e2e5b0879d/tensorflow_gpu-2.1.0-cp36-cp36m-manylinux2010_x86_64.whl (421.8MB)\n",
      "\u001b[K     |████████████████████████████████| 421.8MB 40kB/s \n",
      "\u001b[?25hRequirement already satisfied, skipping upgrade: termcolor>=1.1.0 in /usr/local/lib/python3.6/dist-packages (from tensorflow-gpu) (1.1.0)\n",
      "Collecting tensorboard<2.2.0,>=2.1.0\n",
      "\u001b[?25l  Downloading https://files.pythonhosted.org/packages/40/23/53ffe290341cd0855d595b0a2e7485932f473798af173bbe3a584b99bb06/tensorboard-2.1.0-py3-none-any.whl (3.8MB)\n",
      "\u001b[K     |████████████████████████████████| 3.8MB 49.2MB/s \n",
      "\u001b[?25hRequirement already satisfied, skipping upgrade: six>=1.12.0 in /usr/local/lib/python3.6/dist-packages (from tensorflow-gpu) (1.12.0)\n",
      "Collecting tensorflow-estimator<2.2.0,>=2.1.0rc0\n",
      "\u001b[?25l  Downloading https://files.pythonhosted.org/packages/18/90/b77c328a1304437ab1310b463e533fa7689f4bfc41549593056d812fab8e/tensorflow_estimator-2.1.0-py2.py3-none-any.whl (448kB)\n",
      "\u001b[K     |████████████████████████████████| 450kB 50.2MB/s \n",
      "\u001b[?25hRequirement already satisfied, skipping upgrade: wheel>=0.26; python_version >= \"3\" in /usr/local/lib/python3.6/dist-packages (from tensorflow-gpu) (0.34.2)\n",
      "Requirement already satisfied, skipping upgrade: wrapt>=1.11.1 in /usr/local/lib/python3.6/dist-packages (from tensorflow-gpu) (1.11.2)\n",
      "Requirement already satisfied, skipping upgrade: keras-preprocessing>=1.1.0 in /usr/local/lib/python3.6/dist-packages (from tensorflow-gpu) (1.1.0)\n",
      "Requirement already satisfied, skipping upgrade: absl-py>=0.7.0 in /usr/local/lib/python3.6/dist-packages (from tensorflow-gpu) (0.9.0)\n",
      "Requirement already satisfied, skipping upgrade: protobuf>=3.8.0 in /usr/local/lib/python3.6/dist-packages (from tensorflow-gpu) (3.10.0)\n",
      "Requirement already satisfied, skipping upgrade: scipy==1.4.1; python_version >= \"3\" in /usr/local/lib/python3.6/dist-packages (from tensorflow-gpu) (1.4.1)\n",
      "Requirement already satisfied, skipping upgrade: google-pasta>=0.1.6 in /usr/local/lib/python3.6/dist-packages (from tensorflow-gpu) (0.1.8)\n",
      "Requirement already satisfied, skipping upgrade: astor>=0.6.0 in /usr/local/lib/python3.6/dist-packages (from tensorflow-gpu) (0.8.1)\n",
      "Requirement already satisfied, skipping upgrade: gast==0.2.2 in /usr/local/lib/python3.6/dist-packages (from tensorflow-gpu) (0.2.2)\n",
      "Requirement already satisfied, skipping upgrade: opt-einsum>=2.3.2 in /usr/local/lib/python3.6/dist-packages (from tensorflow-gpu) (3.1.0)\n",
      "Requirement already satisfied, skipping upgrade: numpy<2.0,>=1.16.0 in /usr/local/lib/python3.6/dist-packages (from tensorflow-gpu) (1.17.5)\n",
      "Requirement already satisfied, skipping upgrade: keras-applications>=1.0.8 in /usr/local/lib/python3.6/dist-packages (from tensorflow-gpu) (1.0.8)\n",
      "Requirement already satisfied, skipping upgrade: grpcio>=1.8.6 in /usr/local/lib/python3.6/dist-packages (from tensorflow-gpu) (1.15.0)\n",
      "Requirement already satisfied, skipping upgrade: werkzeug>=0.11.15 in /usr/local/lib/python3.6/dist-packages (from tensorboard<2.2.0,>=2.1.0->tensorflow-gpu) (0.16.1)\n",
      "Requirement already satisfied, skipping upgrade: google-auth-oauthlib<0.5,>=0.4.1 in /usr/local/lib/python3.6/dist-packages (from tensorboard<2.2.0,>=2.1.0->tensorflow-gpu) (0.4.1)\n",
      "Requirement already satisfied, skipping upgrade: requests<3,>=2.21.0 in /usr/local/lib/python3.6/dist-packages (from tensorboard<2.2.0,>=2.1.0->tensorflow-gpu) (2.21.0)\n",
      "Requirement already satisfied, skipping upgrade: setuptools>=41.0.0 in /usr/local/lib/python3.6/dist-packages (from tensorboard<2.2.0,>=2.1.0->tensorflow-gpu) (45.1.0)\n",
      "Requirement already satisfied, skipping upgrade: markdown>=2.6.8 in /usr/local/lib/python3.6/dist-packages (from tensorboard<2.2.0,>=2.1.0->tensorflow-gpu) (3.1.1)\n",
      "Collecting google-auth<2,>=1.6.3\n",
      "\u001b[?25l  Downloading https://files.pythonhosted.org/packages/1c/6d/7aae38a9022f982cf8167775c7fc299f203417b698c27080ce09060bba07/google_auth-1.11.0-py2.py3-none-any.whl (76kB)\n",
      "\u001b[K     |████████████████████████████████| 81kB 11.9MB/s \n",
      "\u001b[?25hRequirement already satisfied, skipping upgrade: h5py in /usr/local/lib/python3.6/dist-packages (from keras-applications>=1.0.8->tensorflow-gpu) (2.8.0)\n",
      "Requirement already satisfied, skipping upgrade: requests-oauthlib>=0.7.0 in /usr/local/lib/python3.6/dist-packages (from google-auth-oauthlib<0.5,>=0.4.1->tensorboard<2.2.0,>=2.1.0->tensorflow-gpu) (1.3.0)\n",
      "Requirement already satisfied, skipping upgrade: urllib3<1.25,>=1.21.1 in /usr/local/lib/python3.6/dist-packages (from requests<3,>=2.21.0->tensorboard<2.2.0,>=2.1.0->tensorflow-gpu) (1.24.3)\n",
      "Requirement already satisfied, skipping upgrade: chardet<3.1.0,>=3.0.2 in /usr/local/lib/python3.6/dist-packages (from requests<3,>=2.21.0->tensorboard<2.2.0,>=2.1.0->tensorflow-gpu) (3.0.4)\n",
      "Requirement already satisfied, skipping upgrade: idna<2.9,>=2.5 in /usr/local/lib/python3.6/dist-packages (from requests<3,>=2.21.0->tensorboard<2.2.0,>=2.1.0->tensorflow-gpu) (2.8)\n",
      "Requirement already satisfied, skipping upgrade: certifi>=2017.4.17 in /usr/local/lib/python3.6/dist-packages (from requests<3,>=2.21.0->tensorboard<2.2.0,>=2.1.0->tensorflow-gpu) (2019.11.28)\n",
      "Requirement already satisfied, skipping upgrade: rsa<4.1,>=3.1.4 in /usr/local/lib/python3.6/dist-packages (from google-auth<2,>=1.6.3->tensorboard<2.2.0,>=2.1.0->tensorflow-gpu) (4.0)\n",
      "Requirement already satisfied, skipping upgrade: pyasn1-modules>=0.2.1 in /usr/local/lib/python3.6/dist-packages (from google-auth<2,>=1.6.3->tensorboard<2.2.0,>=2.1.0->tensorflow-gpu) (0.2.8)\n",
      "Requirement already satisfied, skipping upgrade: cachetools<5.0,>=2.0.0 in /usr/local/lib/python3.6/dist-packages (from google-auth<2,>=1.6.3->tensorboard<2.2.0,>=2.1.0->tensorflow-gpu) (4.0.0)\n",
      "Requirement already satisfied, skipping upgrade: oauthlib>=3.0.0 in /usr/local/lib/python3.6/dist-packages (from requests-oauthlib>=0.7.0->google-auth-oauthlib<0.5,>=0.4.1->tensorboard<2.2.0,>=2.1.0->tensorflow-gpu) (3.1.0)\n",
      "Requirement already satisfied, skipping upgrade: pyasn1>=0.1.3 in /usr/local/lib/python3.6/dist-packages (from rsa<4.1,>=3.1.4->google-auth<2,>=1.6.3->tensorboard<2.2.0,>=2.1.0->tensorflow-gpu) (0.4.8)\n",
      "\u001b[31mERROR: tensorflow 1.15.0 has requirement tensorboard<1.16.0,>=1.15.0, but you'll have tensorboard 2.1.0 which is incompatible.\u001b[0m\n",
      "\u001b[31mERROR: tensorflow 1.15.0 has requirement tensorflow-estimator==1.15.1, but you'll have tensorflow-estimator 2.1.0 which is incompatible.\u001b[0m\n",
      "\u001b[31mERROR: tensorboard 2.1.0 has requirement grpcio>=1.24.3, but you'll have grpcio 1.15.0 which is incompatible.\u001b[0m\n",
      "\u001b[31mERROR: google-colab 1.0.0 has requirement google-auth~=1.4.0, but you'll have google-auth 1.11.0 which is incompatible.\u001b[0m\n",
      "Installing collected packages: google-auth, tensorboard, tensorflow-estimator, tensorflow-gpu\n",
      "  Found existing installation: google-auth 1.4.2\n",
      "    Uninstalling google-auth-1.4.2:\n",
      "      Successfully uninstalled google-auth-1.4.2\n",
      "  Found existing installation: tensorboard 1.15.0\n",
      "    Uninstalling tensorboard-1.15.0:\n",
      "      Successfully uninstalled tensorboard-1.15.0\n",
      "  Found existing installation: tensorflow-estimator 1.15.1\n",
      "    Uninstalling tensorflow-estimator-1.15.1:\n",
      "      Successfully uninstalled tensorflow-estimator-1.15.1\n",
      "Successfully installed google-auth-1.11.0 tensorboard-2.1.0 tensorflow-estimator-2.1.0 tensorflow-gpu-2.1.0\n"
     ]
    },
    {
     "data": {
      "application/vnd.colab-display-data+json": {
       "pip_warning": {
        "packages": [
         "google",
         "tensorboard",
         "tensorflow",
         "tensorflow_core",
         "tensorflow_estimator"
        ]
       }
      }
     },
     "metadata": {
      "tags": []
     },
     "output_type": "display_data"
    }
   ],
   "source": [
    "pip install --upgrade tensorflow-gpu #to upgrade tensorflow"
   ]
  },
  {
   "cell_type": "code",
   "execution_count": 8,
   "metadata": {
    "colab": {
     "base_uri": "https://localhost:8080/",
     "height": 35
    },
    "colab_type": "code",
    "executionInfo": {
     "elapsed": 83803,
     "status": "ok",
     "timestamp": 1581489011878,
     "user": {
      "displayName": "MAVYA.A Aglodia",
      "photoUrl": "https://lh3.googleusercontent.com/a-/AAuE7mByULYoTF5EC1bdOorKMYnTe5fPevMwNBkKBSdb=s64",
      "userId": "04315996873656669647"
     },
     "user_tz": -330
    },
    "id": "nx5A9JpujB7E",
    "outputId": "719f7520-e29c-4410-cdb2-b2c914e44a1d"
   },
   "outputs": [
    {
     "data": {
      "text/plain": [
       "'1.15.0'"
      ]
     },
     "execution_count": 8,
     "metadata": {
      "tags": []
     },
     "output_type": "execute_result"
    }
   ],
   "source": [
    "tf.__version__"
   ]
  },
  {
   "cell_type": "code",
   "execution_count": 9,
   "metadata": {
    "colab": {
     "base_uri": "https://localhost:8080/",
     "height": 319
    },
    "colab_type": "code",
    "executionInfo": {
     "elapsed": 91008,
     "status": "ok",
     "timestamp": 1581489019145,
     "user": {
      "displayName": "MAVYA.A Aglodia",
      "photoUrl": "https://lh3.googleusercontent.com/a-/AAuE7mByULYoTF5EC1bdOorKMYnTe5fPevMwNBkKBSdb=s64",
      "userId": "04315996873656669647"
     },
     "user_tz": -330
    },
    "id": "66j-wqzboJp0",
    "outputId": "33b37c94-e325-4323-d0eb-0ed681a6116d"
   },
   "outputs": [
    {
     "name": "stdout",
     "output_type": "stream",
     "text": [
      "Wed Feb 12 06:30:14 2020       \n",
      "+-----------------------------------------------------------------------------+\n",
      "| NVIDIA-SMI 440.48.02    Driver Version: 418.67       CUDA Version: 10.1     |\n",
      "|-------------------------------+----------------------+----------------------+\n",
      "| GPU  Name        Persistence-M| Bus-Id        Disp.A | Volatile Uncorr. ECC |\n",
      "| Fan  Temp  Perf  Pwr:Usage/Cap|         Memory-Usage | GPU-Util  Compute M. |\n",
      "|===============================+======================+======================|\n",
      "|   0  Tesla P4            Off  | 00000000:00:04.0 Off |                    0 |\n",
      "| N/A   42C    P8     7W /  75W |      0MiB /  7611MiB |      0%      Default |\n",
      "+-------------------------------+----------------------+----------------------+\n",
      "                                                                               \n",
      "+-----------------------------------------------------------------------------+\n",
      "| Processes:                                                       GPU Memory |\n",
      "|  GPU       PID   Type   Process name                             Usage      |\n",
      "|=============================================================================|\n",
      "|  No running processes found                                                 |\n",
      "+-----------------------------------------------------------------------------+\n"
     ]
    }
   ],
   "source": [
    "!nvidia-smi    #to check  the GPU name"
   ]
  },
  {
   "cell_type": "code",
   "execution_count": 10,
   "metadata": {
    "colab": {
     "base_uri": "https://localhost:8080/",
     "height": 35
    },
    "colab_type": "code",
    "executionInfo": {
     "elapsed": 90950,
     "status": "ok",
     "timestamp": 1581489019147,
     "user": {
      "displayName": "MAVYA.A Aglodia",
      "photoUrl": "https://lh3.googleusercontent.com/a-/AAuE7mByULYoTF5EC1bdOorKMYnTe5fPevMwNBkKBSdb=s64",
      "userId": "04315996873656669647"
     },
     "user_tz": -330
    },
    "id": "SjD2AuyGpV-Q",
    "outputId": "dedb316a-4699-4180-c73e-01f985746e7a"
   },
   "outputs": [
    {
     "name": "stdout",
     "output_type": "stream",
     "text": [
      "Tensor(\"my_scalar:0\", shape=(), dtype=int64)\n"
     ]
    }
   ],
   "source": [
    "'''We have three types of tensors:\n",
    "1. Constant\n",
    "2. Varibale \n",
    "3. Place holder\n",
    "'''\n",
    "# Named my_scalar                                     \n",
    "r2 = tf.constant(1, tf.int64, name = \"my_scalar\")\n",
    "print(r2)"
   ]
  },
  {
   "cell_type": "code",
   "execution_count": 11,
   "metadata": {
    "colab": {
     "base_uri": "https://localhost:8080/",
     "height": 35
    },
    "colab_type": "code",
    "executionInfo": {
     "elapsed": 90889,
     "status": "ok",
     "timestamp": 1581489019148,
     "user": {
      "displayName": "MAVYA.A Aglodia",
      "photoUrl": "https://lh3.googleusercontent.com/a-/AAuE7mByULYoTF5EC1bdOorKMYnTe5fPevMwNBkKBSdb=s64",
      "userId": "04315996873656669647"
     },
     "user_tz": -330
    },
    "id": "TO41TMFIrfhT",
    "outputId": "2960742e-1da7-46aa-ec25-fc7c3363483b"
   },
   "outputs": [
    {
     "name": "stdout",
     "output_type": "stream",
     "text": [
      "Tensor(\"Const_2:0\", shape=(1, 2, 3, 2), dtype=int64)\n"
     ]
    }
   ],
   "source": [
    "r3 = tf.constant([[ [[1, 2],\n",
    "                   [3, 4],\n",
    "                   [4, 5]], \n",
    "                  [[1, 2],\n",
    "                   [3, 4],\n",
    "                   [4, 5]] ]], tf.int64)\n",
    "print(r3)"
   ]
  },
  {
   "cell_type": "markdown",
   "metadata": {},
   "source": [
    "# Artificial Neural Network with TF version 2"
   ]
  },
  {
   "cell_type": "code",
   "execution_count": 0,
   "metadata": {
    "colab": {},
    "colab_type": "code",
    "id": "DtafYzhht085"
   },
   "outputs": [],
   "source": [
    "# Importing the libraries\n",
    "import numpy as np\n",
    "import matplotlib.pyplot as plt\n",
    "import pandas as pd\n",
    "import tensorflow as tf\n",
    "from sklearn.model_selection import train_test_split\n",
    "from tensorflow.keras.models import Sequential\n",
    "from tensorflow.keras.layers import Dense, Dropout, BatchNormalization\n",
    "from sklearn.metrics import confusion_matrix\n",
    "LRelu = tf.keras.layers.LeakyReLU(alpha=0.3)"
   ]
  },
  {
   "cell_type": "code",
   "execution_count": 0,
   "metadata": {
    "colab": {},
    "colab_type": "code",
    "id": "BCkGrTN2x74M"
   },
   "outputs": [],
   "source": [
    "!wget https://tinyurl.com/ydyogx3a\n",
    "dataset = pd.read_csv('ydyogx3a')"
   ]
  },
  {
   "cell_type": "code",
   "execution_count": 0,
   "metadata": {
    "colab": {},
    "colab_type": "code",
    "id": "LGSURJzNy26G"
   },
   "outputs": [],
   "source": [
    "dataset.head()"
   ]
  },
  {
   "cell_type": "code",
   "execution_count": 0,
   "metadata": {
    "colab": {},
    "colab_type": "code",
    "id": "nhTpqtL5ze6j"
   },
   "outputs": [],
   "source": [
    "X = dataset.iloc[:, :-1]\n",
    "y = dataset.iloc[:,-1]"
   ]
  },
  {
   "cell_type": "code",
   "execution_count": 0,
   "metadata": {
    "colab": {},
    "colab_type": "code",
    "id": "f9HEvvUpz8hT"
   },
   "outputs": [],
   "source": [
    "X_train,X_test,y_train,y_test=train_test_split(X,y,test_size=0.2)"
   ]
  },
  {
   "cell_type": "code",
   "execution_count": 0,
   "metadata": {
    "colab": {},
    "colab_type": "code",
    "id": "bzQ5sjN50QVn"
   },
   "outputs": [],
   "source": [
    "model = Sequential()\n",
    "model.add(Dense(32, input_dim=8, activation='relu'))\n",
    "model.add(BatchNormalization()) \n",
    "model.add(Dropout(0.2))\n",
    "model.add(Dense(64, activation='relu'))\n",
    "model.add(BatchNormalization())\n",
    "model.add(Dropout(0.2))\n",
    "model.add(Dense(64, activation=LRelu))\n",
    "model.add(Dense(1, activation='sigmoid'))"
   ]
  },
  {
   "cell_type": "code",
   "execution_count": 0,
   "metadata": {
    "colab": {},
    "colab_type": "code",
    "id": "YGP0ZStW0Vh-"
   },
   "outputs": [],
   "source": [
    "# Compile the keras model     for multiclass, the loss is categorical cross entroy and for binary, it is binary cross entropy\n",
    "model.compile(loss = 'binary_crossentropy', optimizer = 'adam', metrics=['accuracy'])"
   ]
  },
  {
   "cell_type": "code",
   "execution_count": 0,
   "metadata": {
    "colab": {},
    "colab_type": "code",
    "id": "yk946bhr5_-w"
   },
   "outputs": [],
   "source": [
    "%%time\n",
    "# fit the keras model on the dataset\n",
    "model.fit(X_train, y_train, epochs=150, batch_size=64)"
   ]
  },
  {
   "cell_type": "code",
   "execution_count": 0,
   "metadata": {
    "colab": {},
    "colab_type": "code",
    "id": "efRzagWq7vAf"
   },
   "outputs": [],
   "source": [
    "#eveluate the keras model\n",
    "train, test_accuracy = model.evaluate(X_test, y_test, verbose = 1)"
   ]
  },
  {
   "cell_type": "code",
   "execution_count": 0,
   "metadata": {
    "colab": {},
    "colab_type": "code",
    "id": "VEUYCFyQrmPE"
   },
   "outputs": [],
   "source": [
    "test_accuracy"
   ]
  },
  {
   "cell_type": "code",
   "execution_count": 0,
   "metadata": {
    "colab": {},
    "colab_type": "code",
    "id": "RALi6mq6rpGD"
   },
   "outputs": [],
   "source": [
    "print(train)"
   ]
  },
  {
   "cell_type": "code",
   "execution_count": 0,
   "metadata": {
    "colab": {},
    "colab_type": "code",
    "id": "QZrsqLBYruKV"
   },
   "outputs": [],
   "source": [
    "cm = confusion_matrix(y_test, model.predict_classes(X_test))\n",
    "print(cm)\n",
    "(82+34)/np.sum(cm)"
   ]
  },
  {
   "cell_type": "code",
   "execution_count": 0,
   "metadata": {
    "colab": {},
    "colab_type": "code",
    "id": "E86NwuQvsRqZ"
   },
   "outputs": [],
   "source": [
    "# to save the model in locale\n",
    "model.save(\"example.h5\")      \n"
   ]
  },
  {
   "cell_type": "code",
   "execution_count": 0,
   "metadata": {
    "colab": {},
    "colab_type": "code",
    "id": "jzeFhCYUuie-"
   },
   "outputs": [],
   "source": [
    "# Hand digit data set code\n",
    "from tensorflow.keras.datasets import mnist"
   ]
  },
  {
   "cell_type": "code",
   "execution_count": 0,
   "metadata": {
    "colab": {},
    "colab_type": "code",
    "id": "2P3KWmwfvXrD"
   },
   "outputs": [],
   "source": [
    "(x_train, y_train), (x_test, y_test) = mnist.load_data()"
   ]
  },
  {
   "cell_type": "code",
   "execution_count": 0,
   "metadata": {
    "colab": {},
    "colab_type": "code",
    "id": "4N-5aj4jvjvY"
   },
   "outputs": [],
   "source": [
    "x_train[0]"
   ]
  },
  {
   "cell_type": "code",
   "execution_count": 0,
   "metadata": {
    "colab": {},
    "colab_type": "code",
    "id": "yGLavUE4v1TG"
   },
   "outputs": [],
   "source": [
    "x_train.shape"
   ]
  },
  {
   "cell_type": "code",
   "execution_count": 0,
   "metadata": {
    "colab": {},
    "colab_type": "code",
    "id": "jtcfuBWr3ws8"
   },
   "outputs": [],
   "source": [
    "x_test.shape"
   ]
  },
  {
   "cell_type": "code",
   "execution_count": 0,
   "metadata": {
    "colab": {},
    "colab_type": "code",
    "id": "89ZNplLAv4VU"
   },
   "outputs": [],
   "source": [
    "# x_train.reshape(-1)"
   ]
  },
  {
   "cell_type": "code",
   "execution_count": 0,
   "metadata": {
    "colab": {},
    "colab_type": "code",
    "id": "i6PU2BgQwppo"
   },
   "outputs": [],
   "source": [
    "x_train = x_train.reshape(60000, 784)"
   ]
  },
  {
   "cell_type": "code",
   "execution_count": 0,
   "metadata": {
    "colab": {},
    "colab_type": "code",
    "id": "raBuk2Oh33FR"
   },
   "outputs": [],
   "source": [
    "x_test = x_test.reshape(10000, 784)"
   ]
  },
  {
   "cell_type": "code",
   "execution_count": 0,
   "metadata": {
    "colab": {},
    "colab_type": "code",
    "id": "dbaqZiXCwu7u"
   },
   "outputs": [],
   "source": [
    "x_train"
   ]
  },
  {
   "cell_type": "code",
   "execution_count": 0,
   "metadata": {
    "colab": {},
    "colab_type": "code",
    "id": "MgZDfh8L39-C"
   },
   "outputs": [],
   "source": [
    "x_test"
   ]
  },
  {
   "cell_type": "code",
   "execution_count": 0,
   "metadata": {
    "colab": {},
    "colab_type": "code",
    "id": "7kse3ZNxy0I3"
   },
   "outputs": [],
   "source": [
    "x_train.shape "
   ]
  },
  {
   "cell_type": "code",
   "execution_count": 0,
   "metadata": {
    "colab": {},
    "colab_type": "code",
    "id": "-dff3f1n4A7D"
   },
   "outputs": [],
   "source": [
    "x_test.shape"
   ]
  },
  {
   "cell_type": "code",
   "execution_count": 0,
   "metadata": {
    "colab": {},
    "colab_type": "code",
    "id": "V7ETpnOfCilh"
   },
   "outputs": [],
   "source": [
    "y_train.shape"
   ]
  },
  {
   "cell_type": "code",
   "execution_count": 0,
   "metadata": {
    "colab": {},
    "colab_type": "code",
    "id": "ZuIi5zSmCpie"
   },
   "outputs": [],
   "source": [
    "print(y_train)"
   ]
  },
  {
   "cell_type": "code",
   "execution_count": 0,
   "metadata": {
    "colab": {},
    "colab_type": "code",
    "id": "I3QPaoSkzy95"
   },
   "outputs": [],
   "source": [
    "# Importing the libraries\n",
    "import numpy as np\n",
    "import matplotlib.pyplot as plt\n",
    "import pandas as pd\n",
    "import tensorflow as tf\n",
    "from sklearn.model_selection import train_test_split\n",
    "from tensorflow.keras.models import Sequential\n",
    "from tensorflow.keras.layers import Dense, Dropout, BatchNormalization\n",
    "from sklearn.metrics import confusion_matrix\n",
    "LRelu = tf.keras.layers.LeakyReLU(alpha=0.3)"
   ]
  },
  {
   "cell_type": "code",
   "execution_count": 0,
   "metadata": {
    "colab": {},
    "colab_type": "code",
    "id": "ATLxvlLZ1AX1"
   },
   "outputs": [],
   "source": [
    "model = Sequential()\n",
    "model.add(Dense(64, input_dim=784, activation='relu'))\n",
    "model.add(BatchNormalization()) \n",
    "model.add(Dropout(0.2))\n",
    "model.add(Dense(72, activation='relu'))\n",
    "model.add(BatchNormalization())\n",
    "model.add(Dropout(0.2))\n",
    "model.add(Dense(72, activation=LRelu))\n",
    "model.add(Dense(10, activation='softmax'))"
   ]
  },
  {
   "cell_type": "code",
   "execution_count": 0,
   "metadata": {
    "colab": {},
    "colab_type": "code",
    "id": "GATns2li11Zr"
   },
   "outputs": [],
   "source": [
    "# Compile the keras model     for multiclass, the loss is categorical cross entroy and for binary, it is binary cross entropy\n",
    "model.compile(loss = 'sparse_categorical_crossentropy', optimizer = 'adam', metrics=['sparse_categorical_accuracy'])"
   ]
  },
  {
   "cell_type": "code",
   "execution_count": 0,
   "metadata": {
    "colab": {},
    "colab_type": "code",
    "id": "ryi3AHbK2RUf"
   },
   "outputs": [],
   "source": [
    "%%time\n",
    "# fit the keras model on the dataset\n",
    "model.fit(x_train, y_train, epochs=50, batch_size=600)"
   ]
  },
  {
   "cell_type": "code",
   "execution_count": 0,
   "metadata": {
    "colab": {},
    "colab_type": "code",
    "id": "aIWcr5Jj2h2K"
   },
   "outputs": [],
   "source": [
    "train, test_accuracy = model.evaluate(x_test, y_test, verbose = 1)"
   ]
  },
  {
   "cell_type": "code",
   "execution_count": 0,
   "metadata": {
    "colab": {},
    "colab_type": "code",
    "id": "-NOFkWOU3jBd"
   },
   "outputs": [],
   "source": [
    "test_accuracy"
   ]
  },
  {
   "cell_type": "code",
   "execution_count": 0,
   "metadata": {
    "colab": {},
    "colab_type": "code",
    "id": "y87nG2_B4UK_"
   },
   "outputs": [],
   "source": [
    "print(train)"
   ]
  },
  {
   "cell_type": "code",
   "execution_count": 0,
   "metadata": {
    "colab": {},
    "colab_type": "code",
    "id": "uYK4pYXF4V1c"
   },
   "outputs": [],
   "source": [
    "cm = confusion_matrix(y_test, model.predict_classes(x_test))\n",
    "print(cm)"
   ]
  },
  {
   "cell_type": "code",
   "execution_count": 0,
   "metadata": {
    "colab": {},
    "colab_type": "code",
    "id": "6Fozp0Xv40U3"
   },
   "outputs": [],
   "source": [
    "# model.predict_classes(np.expand_dims(x_test[0], axis = 0))"
   ]
  },
  {
   "cell_type": "code",
   "execution_count": 0,
   "metadata": {
    "colab": {},
    "colab_type": "code",
    "id": "U9BUwWQs6vh7"
   },
   "outputs": [],
   "source": [
    "model.predict_classes(x_test[0:5])"
   ]
  },
  {
   "cell_type": "code",
   "execution_count": 0,
   "metadata": {
    "colab": {},
    "colab_type": "code",
    "id": "wbu9pk-n5ReS"
   },
   "outputs": [],
   "source": [
    "y_test[0:5]"
   ]
  },
  {
   "cell_type": "code",
   "execution_count": 0,
   "metadata": {
    "colab": {},
    "colab_type": "code",
    "id": "OS99FIlk8r5y"
   },
   "outputs": [],
   "source": [
    "# to save the model in locale\n",
    "model.save(\"minst.h5\")      \n"
   ]
  },
  {
   "cell_type": "code",
   "execution_count": 0,
   "metadata": {
    "colab": {},
    "colab_type": "code",
    "id": "ayOPHVaw9JOd"
   },
   "outputs": [],
   "source": [
    "from tensorflow.keras.datasets import cifar10"
   ]
  },
  {
   "cell_type": "code",
   "execution_count": 8,
   "metadata": {
    "colab": {
     "base_uri": "https://localhost:8080/",
     "height": 52
    },
    "colab_type": "code",
    "executionInfo": {
     "elapsed": 18708,
     "status": "ok",
     "timestamp": 1581489242221,
     "user": {
      "displayName": "MAVYA.A Aglodia",
      "photoUrl": "https://lh3.googleusercontent.com/a-/AAuE7mByULYoTF5EC1bdOorKMYnTe5fPevMwNBkKBSdb=s64",
      "userId": "04315996873656669647"
     },
     "user_tz": -330
    },
    "id": "UEoucV0g_fT1",
    "outputId": "1a42a78f-2dc6-4793-e40f-120c508a74d3"
   },
   "outputs": [
    {
     "name": "stdout",
     "output_type": "stream",
     "text": [
      "Downloading data from https://www.cs.toronto.edu/~kriz/cifar-10-python.tar.gz\n",
      "170500096/170498071 [==============================] - 13s 0us/step\n"
     ]
    }
   ],
   "source": [
    "(x_train, y_train), (x_test, y_test) = cifar10.load_data()"
   ]
  },
  {
   "cell_type": "code",
   "execution_count": 9,
   "metadata": {
    "colab": {
     "base_uri": "https://localhost:8080/",
     "height": 35
    },
    "colab_type": "code",
    "executionInfo": {
     "elapsed": 18234,
     "status": "ok",
     "timestamp": 1581489242225,
     "user": {
      "displayName": "MAVYA.A Aglodia",
      "photoUrl": "https://lh3.googleusercontent.com/a-/AAuE7mByULYoTF5EC1bdOorKMYnTe5fPevMwNBkKBSdb=s64",
      "userId": "04315996873656669647"
     },
     "user_tz": -330
    },
    "id": "J93EUsmR_pPR",
    "outputId": "bc72ebec-690d-47c4-ae1e-329599b2b180"
   },
   "outputs": [
    {
     "data": {
      "text/plain": [
       "(50000, 32, 32, 3)"
      ]
     },
     "execution_count": 9,
     "metadata": {
      "tags": []
     },
     "output_type": "execute_result"
    }
   ],
   "source": [
    "x_train.shape"
   ]
  },
  {
   "cell_type": "code",
   "execution_count": 10,
   "metadata": {
    "colab": {
     "base_uri": "https://localhost:8080/",
     "height": 35
    },
    "colab_type": "code",
    "executionInfo": {
     "elapsed": 17790,
     "status": "ok",
     "timestamp": 1581489242229,
     "user": {
      "displayName": "MAVYA.A Aglodia",
      "photoUrl": "https://lh3.googleusercontent.com/a-/AAuE7mByULYoTF5EC1bdOorKMYnTe5fPevMwNBkKBSdb=s64",
      "userId": "04315996873656669647"
     },
     "user_tz": -330
    },
    "id": "GcnI1xrRA241",
    "outputId": "7c70f808-4ced-45f6-de44-2479cf7fc960"
   },
   "outputs": [
    {
     "data": {
      "text/plain": [
       "(10000, 32, 32, 3)"
      ]
     },
     "execution_count": 10,
     "metadata": {
      "tags": []
     },
     "output_type": "execute_result"
    }
   ],
   "source": [
    "x_test.shape"
   ]
  },
  {
   "cell_type": "code",
   "execution_count": 0,
   "metadata": {
    "colab": {},
    "colab_type": "code",
    "id": "G207AdQH_u1D"
   },
   "outputs": [],
   "source": [
    "x_train = x_train.reshape(50000, 3072)\n",
    "x_test = x_test.reshape(10000, 3072)"
   ]
  },
  {
   "cell_type": "code",
   "execution_count": 12,
   "metadata": {
    "colab": {
     "base_uri": "https://localhost:8080/",
     "height": 35
    },
    "colab_type": "code",
    "executionInfo": {
     "elapsed": 16692,
     "status": "ok",
     "timestamp": 1581489242236,
     "user": {
      "displayName": "MAVYA.A Aglodia",
      "photoUrl": "https://lh3.googleusercontent.com/a-/AAuE7mByULYoTF5EC1bdOorKMYnTe5fPevMwNBkKBSdb=s64",
      "userId": "04315996873656669647"
     },
     "user_tz": -330
    },
    "id": "joiYWBiNAOgE",
    "outputId": "04b94f71-60d0-4218-f657-82b94ca4444c"
   },
   "outputs": [
    {
     "data": {
      "text/plain": [
       "(50000, 3072)"
      ]
     },
     "execution_count": 12,
     "metadata": {
      "tags": []
     },
     "output_type": "execute_result"
    }
   ],
   "source": [
    "x_train.shape"
   ]
  },
  {
   "cell_type": "code",
   "execution_count": 13,
   "metadata": {
    "colab": {
     "base_uri": "https://localhost:8080/",
     "height": 35
    },
    "colab_type": "code",
    "executionInfo": {
     "elapsed": 16250,
     "status": "ok",
     "timestamp": 1581489242238,
     "user": {
      "displayName": "MAVYA.A Aglodia",
      "photoUrl": "https://lh3.googleusercontent.com/a-/AAuE7mByULYoTF5EC1bdOorKMYnTe5fPevMwNBkKBSdb=s64",
      "userId": "04315996873656669647"
     },
     "user_tz": -330
    },
    "id": "8YCdnL0QAQZ4",
    "outputId": "a4378e71-ba5d-439d-81a3-2361a8fcac09"
   },
   "outputs": [
    {
     "data": {
      "text/plain": [
       "(10000, 3072)"
      ]
     },
     "execution_count": 13,
     "metadata": {
      "tags": []
     },
     "output_type": "execute_result"
    }
   ],
   "source": [
    "x_test.shape"
   ]
  },
  {
   "cell_type": "code",
   "execution_count": 14,
   "metadata": {
    "colab": {
     "base_uri": "https://localhost:8080/",
     "height": 35
    },
    "colab_type": "code",
    "executionInfo": {
     "elapsed": 15797,
     "status": "ok",
     "timestamp": 1581489242242,
     "user": {
      "displayName": "MAVYA.A Aglodia",
      "photoUrl": "https://lh3.googleusercontent.com/a-/AAuE7mByULYoTF5EC1bdOorKMYnTe5fPevMwNBkKBSdb=s64",
      "userId": "04315996873656669647"
     },
     "user_tz": -330
    },
    "id": "-ODo67osBwF-",
    "outputId": "f7b7061e-5b17-4927-9ba4-0a3412c75174"
   },
   "outputs": [
    {
     "data": {
      "text/plain": [
       "(50000, 1)"
      ]
     },
     "execution_count": 14,
     "metadata": {
      "tags": []
     },
     "output_type": "execute_result"
    }
   ],
   "source": [
    "y_train.shape"
   ]
  },
  {
   "cell_type": "code",
   "execution_count": 0,
   "metadata": {
    "colab": {},
    "colab_type": "code",
    "id": "J32R4veTBDxH"
   },
   "outputs": [],
   "source": [
    "# Importing the libraries\n",
    "import numpy as np\n",
    "import matplotlib.pyplot as plt\n",
    "import pandas as pd\n",
    "import tensorflow as tf\n",
    "from sklearn.model_selection import train_test_split\n",
    "from tensorflow.keras.models import Model\n",
    "from tensorflow.keras.layers import Input, Dense\n",
    "from sklearn.metrics import confusion_matrix\n",
    "LRelu = tf.keras.layers.LeakyReLU(alpha=0.3)"
   ]
  },
  {
   "cell_type": "code",
   "execution_count": 0,
   "metadata": {
    "colab": {},
    "colab_type": "code",
    "id": "qXzR4aYbBJKe"
   },
   "outputs": [],
   "source": [
    "x1 = Input(shape=(3072,))\n",
    "h1 = Dense(1024, activation = 'relu')(x1)\n",
    "d1 = Dropout(0.2)(h1)\n",
    "h2 = Dense(1024, activation = 'relu')(d1)\n",
    "d2 = Dropout(0.2)(h2)\n",
    "h3 = Dense(1024, activation = LRelu)(d2)\n",
    "d3 = Dropout(0.2)(h3)\n",
    "h4 = Dense(1024, activation = 'relu')(d3)\n",
    "d4 = Dropout(0.2)(h4)\n",
    "output = Dense(10, activation = 'softmax')(d4)\n",
    "model = Model(inputs=x1, outputs=output)"
   ]
  },
  {
   "cell_type": "code",
   "execution_count": 0,
   "metadata": {
    "colab": {},
    "colab_type": "code",
    "id": "qlUY2fIvHP9k"
   },
   "outputs": [],
   "source": [
    "# Compile the keras model     for multiclass, the loss is categorical cross entroy and for binary, it is binary cross entropy\n",
    "model.compile(loss = 'sparse_categorical_crossentropy', optimizer = 'adam', metrics=['sparse_categorical_accuracy'])"
   ]
  },
  {
   "cell_type": "code",
   "execution_count": 21,
   "metadata": {
    "colab": {
     "base_uri": "https://localhost:8080/",
     "height": 1000
    },
    "colab_type": "code",
    "executionInfo": {
     "elapsed": 49974,
     "status": "ok",
     "timestamp": 1581489442092,
     "user": {
      "displayName": "MAVYA.A Aglodia",
      "photoUrl": "https://lh3.googleusercontent.com/a-/AAuE7mByULYoTF5EC1bdOorKMYnTe5fPevMwNBkKBSdb=s64",
      "userId": "04315996873656669647"
     },
     "user_tz": -330
    },
    "id": "HAy0C1YIIV06",
    "outputId": "3b2fc060-0eae-40f5-d4b0-1fd93c6d2dd2"
   },
   "outputs": [
    {
     "name": "stdout",
     "output_type": "stream",
     "text": [
      "Train on 50000 samples\n",
      "Epoch 1/50\n",
      "50000/50000 [==============================] - 1s 26us/sample - loss: 37.3070 - sparse_categorical_accuracy: 0.1090\n",
      "Epoch 2/50\n",
      "50000/50000 [==============================] - 1s 19us/sample - loss: 2.2787 - sparse_categorical_accuracy: 0.1298\n",
      "Epoch 3/50\n",
      "50000/50000 [==============================] - 1s 19us/sample - loss: 2.2137 - sparse_categorical_accuracy: 0.1479\n",
      "Epoch 4/50\n",
      "50000/50000 [==============================] - 1s 19us/sample - loss: 2.2047 - sparse_categorical_accuracy: 0.1492\n",
      "Epoch 5/50\n",
      "50000/50000 [==============================] - 1s 19us/sample - loss: 2.1940 - sparse_categorical_accuracy: 0.1515\n",
      "Epoch 6/50\n",
      "50000/50000 [==============================] - 1s 19us/sample - loss: 2.1781 - sparse_categorical_accuracy: 0.1542\n",
      "Epoch 7/50\n",
      "50000/50000 [==============================] - 1s 19us/sample - loss: 2.1797 - sparse_categorical_accuracy: 0.1523\n",
      "Epoch 8/50\n",
      "50000/50000 [==============================] - 1s 19us/sample - loss: 2.1683 - sparse_categorical_accuracy: 0.1562\n",
      "Epoch 9/50\n",
      "50000/50000 [==============================] - 1s 19us/sample - loss: 2.1732 - sparse_categorical_accuracy: 0.1534\n",
      "Epoch 10/50\n",
      "50000/50000 [==============================] - 1s 18us/sample - loss: 2.1587 - sparse_categorical_accuracy: 0.1571\n",
      "Epoch 11/50\n",
      "50000/50000 [==============================] - 1s 19us/sample - loss: 2.1610 - sparse_categorical_accuracy: 0.1561\n",
      "Epoch 12/50\n",
      "50000/50000 [==============================] - 1s 18us/sample - loss: 2.1539 - sparse_categorical_accuracy: 0.1574\n",
      "Epoch 13/50\n",
      "50000/50000 [==============================] - 1s 19us/sample - loss: 2.1522 - sparse_categorical_accuracy: 0.1588\n",
      "Epoch 14/50\n",
      "50000/50000 [==============================] - 1s 19us/sample - loss: 2.1482 - sparse_categorical_accuracy: 0.1611\n",
      "Epoch 15/50\n",
      "50000/50000 [==============================] - 1s 19us/sample - loss: 2.1536 - sparse_categorical_accuracy: 0.1614\n",
      "Epoch 16/50\n",
      "50000/50000 [==============================] - 1s 19us/sample - loss: 2.1482 - sparse_categorical_accuracy: 0.1611\n",
      "Epoch 17/50\n",
      "50000/50000 [==============================] - 1s 19us/sample - loss: 2.1430 - sparse_categorical_accuracy: 0.1641\n",
      "Epoch 18/50\n",
      "50000/50000 [==============================] - 1s 19us/sample - loss: 2.1394 - sparse_categorical_accuracy: 0.1643\n",
      "Epoch 19/50\n",
      "50000/50000 [==============================] - 1s 19us/sample - loss: 2.1409 - sparse_categorical_accuracy: 0.1622\n",
      "Epoch 20/50\n",
      "50000/50000 [==============================] - 1s 19us/sample - loss: 2.1379 - sparse_categorical_accuracy: 0.1667\n",
      "Epoch 21/50\n",
      "50000/50000 [==============================] - 1s 18us/sample - loss: 2.1434 - sparse_categorical_accuracy: 0.1627\n",
      "Epoch 22/50\n",
      "50000/50000 [==============================] - 1s 19us/sample - loss: 2.1363 - sparse_categorical_accuracy: 0.1663\n",
      "Epoch 23/50\n",
      "50000/50000 [==============================] - 1s 19us/sample - loss: 2.1422 - sparse_categorical_accuracy: 0.1631\n",
      "Epoch 24/50\n",
      "50000/50000 [==============================] - 1s 19us/sample - loss: 2.1385 - sparse_categorical_accuracy: 0.1661\n",
      "Epoch 25/50\n",
      "50000/50000 [==============================] - 1s 19us/sample - loss: 2.1360 - sparse_categorical_accuracy: 0.1656\n",
      "Epoch 26/50\n",
      "50000/50000 [==============================] - 1s 19us/sample - loss: 2.1342 - sparse_categorical_accuracy: 0.1668\n",
      "Epoch 27/50\n",
      "50000/50000 [==============================] - 1s 19us/sample - loss: 2.1364 - sparse_categorical_accuracy: 0.1691\n",
      "Epoch 28/50\n",
      "50000/50000 [==============================] - 1s 19us/sample - loss: 2.1348 - sparse_categorical_accuracy: 0.1660\n",
      "Epoch 29/50\n",
      "50000/50000 [==============================] - 1s 19us/sample - loss: 2.1335 - sparse_categorical_accuracy: 0.1692\n",
      "Epoch 30/50\n",
      "50000/50000 [==============================] - 1s 19us/sample - loss: 2.1313 - sparse_categorical_accuracy: 0.1678\n",
      "Epoch 31/50\n",
      "50000/50000 [==============================] - 1s 19us/sample - loss: 2.1292 - sparse_categorical_accuracy: 0.1692\n",
      "Epoch 32/50\n",
      "50000/50000 [==============================] - 1s 19us/sample - loss: 2.1281 - sparse_categorical_accuracy: 0.1722\n",
      "Epoch 33/50\n",
      "50000/50000 [==============================] - 1s 18us/sample - loss: 2.1332 - sparse_categorical_accuracy: 0.1694\n",
      "Epoch 34/50\n",
      "50000/50000 [==============================] - 1s 19us/sample - loss: 2.1335 - sparse_categorical_accuracy: 0.1699\n",
      "Epoch 35/50\n",
      "50000/50000 [==============================] - 1s 19us/sample - loss: 2.1281 - sparse_categorical_accuracy: 0.1720\n",
      "Epoch 36/50\n",
      "50000/50000 [==============================] - 1s 19us/sample - loss: 2.1288 - sparse_categorical_accuracy: 0.1735\n",
      "Epoch 37/50\n",
      "50000/50000 [==============================] - 1s 19us/sample - loss: 2.1293 - sparse_categorical_accuracy: 0.1713\n",
      "Epoch 38/50\n",
      "50000/50000 [==============================] - 1s 19us/sample - loss: 2.1313 - sparse_categorical_accuracy: 0.1696\n",
      "Epoch 39/50\n",
      "50000/50000 [==============================] - 1s 19us/sample - loss: 2.1274 - sparse_categorical_accuracy: 0.1742\n",
      "Epoch 40/50\n",
      "50000/50000 [==============================] - 1s 19us/sample - loss: 2.1245 - sparse_categorical_accuracy: 0.1724\n",
      "Epoch 41/50\n",
      "50000/50000 [==============================] - 1s 19us/sample - loss: 2.1247 - sparse_categorical_accuracy: 0.1747\n",
      "Epoch 42/50\n",
      "50000/50000 [==============================] - 1s 19us/sample - loss: 2.1288 - sparse_categorical_accuracy: 0.1699\n",
      "Epoch 43/50\n",
      "50000/50000 [==============================] - 1s 19us/sample - loss: 2.1272 - sparse_categorical_accuracy: 0.1730\n",
      "Epoch 44/50\n",
      "50000/50000 [==============================] - 1s 19us/sample - loss: 2.1285 - sparse_categorical_accuracy: 0.1756\n",
      "Epoch 45/50\n",
      "50000/50000 [==============================] - 1s 19us/sample - loss: 2.1239 - sparse_categorical_accuracy: 0.1761\n",
      "Epoch 46/50\n",
      "50000/50000 [==============================] - 1s 19us/sample - loss: 2.1287 - sparse_categorical_accuracy: 0.1732\n",
      "Epoch 47/50\n",
      "50000/50000 [==============================] - 1s 19us/sample - loss: 2.1341 - sparse_categorical_accuracy: 0.1695\n",
      "Epoch 48/50\n",
      "50000/50000 [==============================] - 1s 19us/sample - loss: 2.1313 - sparse_categorical_accuracy: 0.1720\n",
      "Epoch 49/50\n",
      "50000/50000 [==============================] - 1s 19us/sample - loss: 2.1296 - sparse_categorical_accuracy: 0.1739\n",
      "Epoch 50/50\n",
      "50000/50000 [==============================] - 1s 19us/sample - loss: 2.1270 - sparse_categorical_accuracy: 0.1747\n",
      "CPU times: user 32 s, sys: 8.78 s, total: 40.8 s\n",
      "Wall time: 47.6 s\n"
     ]
    },
    {
     "data": {
      "text/plain": [
       "<tensorflow.python.keras.callbacks.History at 0x7f778a8bd7f0>"
      ]
     },
     "execution_count": 21,
     "metadata": {
      "tags": []
     },
     "output_type": "execute_result"
    }
   ],
   "source": [
    "%%time\n",
    "# fit the keras model on the dataset\n",
    "model.fit(x_train, y_train, epochs=50, batch_size=600)"
   ]
  }
 ],
 "metadata": {
  "accelerator": "GPU",
  "colab": {
   "authorship_tag": "ABX9TyPjHIeI4pYxwoMQa4TNlFa/",
   "mount_file_id": "1aEHx81lJgj-XXsZIPy5aVpHMhG1Su6SU",
   "name": "DL Class.ipynb",
   "provenance": []
  },
  "kernelspec": {
   "display_name": "Python 3",
   "language": "python",
   "name": "python3"
  },
  "language_info": {
   "codemirror_mode": {
    "name": "ipython",
    "version": 3
   },
   "file_extension": ".py",
   "mimetype": "text/x-python",
   "name": "python",
   "nbconvert_exporter": "python",
   "pygments_lexer": "ipython3",
   "version": "3.7.3"
  }
 },
 "nbformat": 4,
 "nbformat_minor": 1
}
