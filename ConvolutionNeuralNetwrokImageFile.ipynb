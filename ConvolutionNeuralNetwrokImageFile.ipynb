{
 "cells": [
  {
   "cell_type": "code",
   "execution_count": 0,
   "metadata": {
    "colab": {
     "base_uri": "https://localhost:8080/",
     "height": 165
    },
    "colab_type": "code",
    "executionInfo": {
     "elapsed": 76870,
     "status": "ok",
     "timestamp": 1581573683971,
     "user": {
      "displayName": "MAVYA.A Aglodia",
      "photoUrl": "https://lh3.googleusercontent.com/a-/AAuE7mByULYoTF5EC1bdOorKMYnTe5fPevMwNBkKBSdb=s64",
      "userId": "04315996873656669647"
     },
     "user_tz": -330
    },
    "id": "qSFDJY06HkhJ",
    "outputId": "f8c23469-5576-4871-f746-087b10a0ad31"
   },
   "outputs": [
    {
     "data": {
      "text/html": [
       "<p style=\"color: red;\">\n",
       "The default version of TensorFlow in Colab will soon switch to TensorFlow 2.x.<br>\n",
       "We recommend you <a href=\"https://www.tensorflow.org/guide/migrate\" target=\"_blank\">upgrade</a> now \n",
       "or ensure your notebook will continue to use TensorFlow 1.x via the <code>%tensorflow_version 1.x</code> magic:\n",
       "<a href=\"https://colab.research.google.com/notebooks/tensorflow_version.ipynb\" target=\"_blank\">more info</a>.</p>\n"
      ],
      "text/plain": [
       "<IPython.core.display.HTML object>"
      ]
     },
     "metadata": {
      "tags": []
     },
     "output_type": "display_data"
    },
    {
     "name": "stdout",
     "output_type": "stream",
     "text": [
      "Collecting tensorflow-gpu\n",
      "\u001b[?25l  Downloading https://files.pythonhosted.org/packages/0a/93/c7bca39b23aae45cd2e85ad3871c81eccc63b9c5276e926511e2e5b0879d/tensorflow_gpu-2.1.0-cp36-cp36m-manylinux2010_x86_64.whl (421.8MB)\n",
      "\u001b[K     |████████████████████████████████| 421.8MB 30kB/s \n"
     ]
    }
   ],
   "source": [
    "import tensorflow as tf\n",
    "!pip install --upgrade tensorflow-gpu"
   ]
  },
  {
   "cell_type": "code",
   "execution_count": 1,
   "metadata": {
    "colab": {
     "base_uri": "https://localhost:8080/",
     "height": 81
    },
    "colab_type": "code",
    "executionInfo": {
     "elapsed": 2551,
     "status": "ok",
     "timestamp": 1581588527052,
     "user": {
      "displayName": "MAVYA.A Aglodia",
      "photoUrl": "https://lh3.googleusercontent.com/a-/AAuE7mByULYoTF5EC1bdOorKMYnTe5fPevMwNBkKBSdb=s64",
      "userId": "04315996873656669647"
     },
     "user_tz": -330
    },
    "id": "i3tDelWcIRUz",
    "outputId": "a3fd15ac-9aa1-46b8-92c8-e5d770f43150"
   },
   "outputs": [
    {
     "data": {
      "text/html": [
       "<p style=\"color: red;\">\n",
       "The default version of TensorFlow in Colab will soon switch to TensorFlow 2.x.<br>\n",
       "We recommend you <a href=\"https://www.tensorflow.org/guide/migrate\" target=\"_blank\">upgrade</a> now \n",
       "or ensure your notebook will continue to use TensorFlow 1.x via the <code>%tensorflow_version 1.x</code> magic:\n",
       "<a href=\"https://colab.research.google.com/notebooks/tensorflow_version.ipynb\" target=\"_blank\">more info</a>.</p>\n"
      ],
      "text/plain": [
       "<IPython.core.display.HTML object>"
      ]
     },
     "metadata": {
      "tags": []
     },
     "output_type": "display_data"
    },
    {
     "data": {
      "text/plain": [
       "'1.15.0'"
      ]
     },
     "execution_count": 1,
     "metadata": {
      "tags": []
     },
     "output_type": "execute_result"
    }
   ],
   "source": [
    "import tensorflow as tf\n",
    "tf.__version__"
   ]
  },
  {
   "cell_type": "code",
   "execution_count": 5,
   "metadata": {
    "colab": {
     "base_uri": "https://localhost:8080/",
     "height": 35
    },
    "colab_type": "code",
    "executionInfo": {
     "elapsed": 31097,
     "status": "ok",
     "timestamp": 1581588634362,
     "user": {
      "displayName": "MAVYA.A Aglodia",
      "photoUrl": "https://lh3.googleusercontent.com/a-/AAuE7mByULYoTF5EC1bdOorKMYnTe5fPevMwNBkKBSdb=s64",
      "userId": "04315996873656669647"
     },
     "user_tz": -330
    },
    "id": "rS3ypKE_Y5RH",
    "outputId": "3eb6adc8-33e4-4c17-acd5-22018a5e1b1e"
   },
   "outputs": [
    {
     "name": "stdout",
     "output_type": "stream",
     "text": [
      "Drive already mounted at /content/drive; to attempt to forcibly remount, call drive.mount(\"/content/drive\", force_remount=True).\n"
     ]
    }
   ],
   "source": [
    "from google.colab import drive\n",
    "drive.mount('/content/drive')"
   ]
  },
  {
   "cell_type": "code",
   "execution_count": 0,
   "metadata": {
    "colab": {},
    "colab_type": "code",
    "id": "s_l-OAnhI7ek"
   },
   "outputs": [],
   "source": [
    "import zipfile\n",
    "with zipfile.ZipFile('//content/drive/My Drive/chest_xray.zip', 'r') as zip_ref: zip_ref.extractall('')"
   ]
  },
  {
   "cell_type": "code",
   "execution_count": 0,
   "metadata": {
    "colab": {},
    "colab_type": "code",
    "id": "26umcaEKJOvl"
   },
   "outputs": [],
   "source": [
    "import cv2"
   ]
  },
  {
   "cell_type": "code",
   "execution_count": 0,
   "metadata": {
    "colab": {},
    "colab_type": "code",
    "id": "-VdoWdE3JUWE"
   },
   "outputs": [],
   "source": [
    "img = cv2.imread('/content/chest_xray/test/NORMAL/IM-0001-0001.jpeg')   "
   ]
  },
  {
   "cell_type": "code",
   "execution_count": 0,
   "metadata": {
    "colab": {},
    "colab_type": "code",
    "id": "wzHknFbEJdBl"
   },
   "outputs": [],
   "source": [
    "X_test = []\n",
    "Y_test = []\n",
    "import os\n",
    "import numpy as np\n",
    "images_name = os.listdir('/content/chest_xray/test/NORMAL')\n",
    "for i in range(len(images_name)):\n",
    "  try:\n",
    "      img = cv2.imread('/content/chest_xray/test/NORMAL/' + images_name[i])\n",
    "      # print(img.shape)\n",
    "      img = cv2.resize(img, (256, 256))\n",
    "      X_test.append(img)\n",
    "      Y_test.append(1)\n",
    "  except:\n",
    "    pass\n",
    "\n",
    "images_name = os.listdir('/content/chest_xray/test/PNEUMONIA')\n",
    "for i in range(len(images_name)):\n",
    "  try:\n",
    "      img = cv2.imread('/content/chest_xray/test/PNEUMONIA/' + images_name[i])\n",
    "      # print(img.shape)\n",
    "      img = cv2.resize(img, (256, 256))\n",
    "      X_test.append(img)\n",
    "      Y_test.append(0)\n",
    "  except:\n",
    "    pass"
   ]
  },
  {
   "cell_type": "code",
   "execution_count": 0,
   "metadata": {
    "colab": {},
    "colab_type": "code",
    "id": "pPoUZmmtJp28"
   },
   "outputs": [],
   "source": [
    "X_test=np.array(X_test)\n",
    "Y_test=np.array(Y_test)"
   ]
  },
  {
   "cell_type": "code",
   "execution_count": 0,
   "metadata": {
    "colab": {
     "base_uri": "https://localhost:8080/",
     "height": 35
    },
    "colab_type": "code",
    "executionInfo": {
     "elapsed": 52159,
     "status": "ok",
     "timestamp": 1581575020517,
     "user": {
      "displayName": "MAVYA.A Aglodia",
      "photoUrl": "https://lh3.googleusercontent.com/a-/AAuE7mByULYoTF5EC1bdOorKMYnTe5fPevMwNBkKBSdb=s64",
      "userId": "04315996873656669647"
     },
     "user_tz": -330
    },
    "id": "jJzVmsxRJ4LX",
    "outputId": "864cbf08-ad8e-4fca-81ca-5dd1b0223e18"
   },
   "outputs": [
    {
     "name": "stderr",
     "output_type": "stream",
     "text": [
      "Using TensorFlow backend.\n"
     ]
    }
   ],
   "source": [
    "from tensorflow.keras.models import Sequential\n",
    "from tensorflow.keras.layers import Dense, Conv2D, MaxPooling2D, Dropout, Flatten, BatchNormalization\n",
    "from keras.preprocessing.image import ImageDataGenerator\n",
    "from keras.preprocessing import image"
   ]
  },
  {
   "cell_type": "code",
   "execution_count": 0,
   "metadata": {
    "colab": {},
    "colab_type": "code",
    "id": "EXQKA9w5KDda"
   },
   "outputs": [],
   "source": [
    "X_train = []\n",
    "Y_train = []\n",
    "import os\n",
    "import numpy as np\n",
    "images_name = os.listdir('/content/chest_xray/train/NORMAL')\n",
    "for i in range(len(images_name)):\n",
    "  try:\n",
    "      img = cv2.imread('/content/chest_xray/train/NORMAL/' + images_name[i])\n",
    "      # print(img.shape)\n",
    "      img = cv2.resize(img, (256, 256))\n",
    "      X_train.append(img)\n",
    "      Y_train.append(1)\n",
    "  except:\n",
    "    pass\n",
    "\n",
    "images_name = os.listdir('/content/chest_xray/train/PNEUMONIA')\n",
    "for i in range(len(images_name)):\n",
    "  try:\n",
    "      img = cv2.imread('/content/chest_xray/train/PNEUMONIA/' + images_name[i])\n",
    "      # print(img.shape)\n",
    "      img = cv2.resize(img, (256, 256))\n",
    "      X_train.append(img)\n",
    "      Y_train.append(0)\n",
    "  except:\n",
    "    pass"
   ]
  },
  {
   "cell_type": "code",
   "execution_count": 0,
   "metadata": {
    "colab": {},
    "colab_type": "code",
    "id": "UNFDXTI7KXqU"
   },
   "outputs": [],
   "source": [
    "X_train=np.array(X_train)\n",
    "Y_train=np.array(Y_train)"
   ]
  },
  {
   "cell_type": "code",
   "execution_count": 0,
   "metadata": {
    "colab": {
     "base_uri": "https://localhost:8080/",
     "height": 35
    },
    "colab_type": "code",
    "executionInfo": {
     "elapsed": 2031,
     "status": "ok",
     "timestamp": 1581575527715,
     "user": {
      "displayName": "MAVYA.A Aglodia",
      "photoUrl": "https://lh3.googleusercontent.com/a-/AAuE7mByULYoTF5EC1bdOorKMYnTe5fPevMwNBkKBSdb=s64",
      "userId": "04315996873656669647"
     },
     "user_tz": -330
    },
    "id": "rbuDrH10NVvx",
    "outputId": "5117730b-8bb9-41e1-ef83-e1b283f64538"
   },
   "outputs": [
    {
     "data": {
      "text/plain": [
       "(5216, 256, 256, 3)"
      ]
     },
     "execution_count": 20,
     "metadata": {
      "tags": []
     },
     "output_type": "execute_result"
    }
   ],
   "source": [
    "X_train.shape"
   ]
  },
  {
   "cell_type": "code",
   "execution_count": 0,
   "metadata": {
    "colab": {
     "base_uri": "https://localhost:8080/",
     "height": 35
    },
    "colab_type": "code",
    "executionInfo": {
     "elapsed": 1792,
     "status": "ok",
     "timestamp": 1581575369614,
     "user": {
      "displayName": "MAVYA.A Aglodia",
      "photoUrl": "https://lh3.googleusercontent.com/a-/AAuE7mByULYoTF5EC1bdOorKMYnTe5fPevMwNBkKBSdb=s64",
      "userId": "04315996873656669647"
     },
     "user_tz": -330
    },
    "id": "Yayb2KmkOOyA",
    "outputId": "30109e9f-8a02-4b01-fe34-58ea5629025b"
   },
   "outputs": [
    {
     "data": {
      "text/plain": [
       "(624, 256, 256, 3)"
      ]
     },
     "execution_count": 19,
     "metadata": {
      "tags": []
     },
     "output_type": "execute_result"
    }
   ],
   "source": [
    "X_test.shape"
   ]
  },
  {
   "cell_type": "code",
   "execution_count": 0,
   "metadata": {
    "colab": {},
    "colab_type": "code",
    "id": "yYMsaj0xK5x6"
   },
   "outputs": [],
   "source": [
    "X_train = X_train/255\n",
    "X_test = X_test/255"
   ]
  },
  {
   "cell_type": "code",
   "execution_count": 0,
   "metadata": {
    "colab": {},
    "colab_type": "code",
    "id": "08CHhnRhMjet"
   },
   "outputs": [],
   "source": [
    "model = Sequential()\n",
    "model.add(Conv2D(32, (3, 3), padding='same', activation='relu', input_shape=(256, 256, 3)))\n",
    "model.add(Conv2D(32, (3, 3), activation='relu'))\n",
    "model.add(MaxPooling2D(pool_size=(2, 2)))\n",
    "\n",
    "model.add(Conv2D(64, (3, 3), padding='same', activation='relu'))\n",
    "model.add(Conv2D(64, (3, 3), activation='relu'))\n",
    "model.add(MaxPooling2D(pool_size=(2, 2)))\n",
    "\n",
    "model.add(Conv2D(64, (3, 3), padding='same', activation='relu'))\n",
    "model.add(Conv2D(64, (3, 3), activation='relu'))\n",
    "model.add(MaxPooling2D(pool_size=(2, 2)))\n",
    "\n",
    "model.add(Flatten())\n",
    "model.add(Dense(512, activation='relu'))\n",
    "model.add(Dropout(0.5))\n",
    "model.add(Dense(1, activation='sigmoid'))"
   ]
  },
  {
   "cell_type": "code",
   "execution_count": 0,
   "metadata": {
    "colab": {},
    "colab_type": "code",
    "id": "vybu_ldOQECd"
   },
   "outputs": [],
   "source": [
    "# Compile the keras model     for multiclass, the loss is categorical cross entroy and for binary, it is binary cross entropy\n",
    "model.compile(loss = 'binary_crossentropy', optimizer = 'adam', metrics=['accuracy'])"
   ]
  },
  {
   "cell_type": "code",
   "execution_count": 0,
   "metadata": {
    "colab": {
     "base_uri": "https://localhost:8080/",
     "height": 464
    },
    "colab_type": "code",
    "executionInfo": {
     "elapsed": 262339,
     "status": "ok",
     "timestamp": 1581576509206,
     "user": {
      "displayName": "MAVYA.A Aglodia",
      "photoUrl": "https://lh3.googleusercontent.com/a-/AAuE7mByULYoTF5EC1bdOorKMYnTe5fPevMwNBkKBSdb=s64",
      "userId": "04315996873656669647"
     },
     "user_tz": -330
    },
    "id": "-0f6_H_0QPgj",
    "outputId": "f9cc8aa0-6445-444e-b951-00f84570e0ea"
   },
   "outputs": [
    {
     "name": "stdout",
     "output_type": "stream",
     "text": [
      "Train on 5216 samples, validate on 624 samples\n",
      "Epoch 1/10\n",
      "5216/5216 [==============================] - 26s 5ms/sample - loss: 11.0276 - accuracy: 0.8043 - val_loss: 0.6767 - val_accuracy: 0.6250\n",
      "Epoch 2/10\n",
      "5216/5216 [==============================] - 26s 5ms/sample - loss: 0.1362 - accuracy: 0.9490 - val_loss: 0.6717 - val_accuracy: 0.6250\n",
      "Epoch 3/10\n",
      "5216/5216 [==============================] - 26s 5ms/sample - loss: 0.0989 - accuracy: 0.9645 - val_loss: 0.6762 - val_accuracy: 0.6250\n",
      "Epoch 4/10\n",
      "5216/5216 [==============================] - 26s 5ms/sample - loss: 0.0868 - accuracy: 0.9688 - val_loss: 0.6751 - val_accuracy: 0.6250\n",
      "Epoch 5/10\n",
      "5216/5216 [==============================] - 26s 5ms/sample - loss: 0.2390 - accuracy: 0.9122 - val_loss: 0.6548 - val_accuracy: 0.6250\n",
      "Epoch 6/10\n",
      "5216/5216 [==============================] - 26s 5ms/sample - loss: 0.2023 - accuracy: 0.9206 - val_loss: 0.6583 - val_accuracy: 0.6362\n",
      "Epoch 7/10\n",
      "5216/5216 [==============================] - 26s 5ms/sample - loss: 0.1540 - accuracy: 0.9446 - val_loss: 0.6583 - val_accuracy: 0.6250\n",
      "Epoch 8/10\n",
      "5216/5216 [==============================] - 26s 5ms/sample - loss: 0.0632 - accuracy: 0.9768 - val_loss: 0.6696 - val_accuracy: 0.6250\n",
      "Epoch 9/10\n",
      "5216/5216 [==============================] - 26s 5ms/sample - loss: 0.0434 - accuracy: 0.9849 - val_loss: 0.6691 - val_accuracy: 0.6250\n",
      "Epoch 10/10\n",
      "5216/5216 [==============================] - 26s 5ms/sample - loss: 0.0292 - accuracy: 0.9881 - val_loss: 0.6569 - val_accuracy: 0.6250\n",
      "CPU times: user 2min 1s, sys: 1min 11s, total: 3min 13s\n",
      "Wall time: 4min 19s\n"
     ]
    },
    {
     "data": {
      "text/plain": [
       "<tensorflow.python.keras.callbacks.History at 0x7fdcffe06828>"
      ]
     },
     "execution_count": 28,
     "metadata": {
      "tags": []
     },
     "output_type": "execute_result"
    }
   ],
   "source": [
    "%%time\n",
    "# fit the keras model on the dataset\n",
    "model.fit(X_train, Y_train, epochs=10, batch_size=64, validation_data = (X_test, Y_test))"
   ]
  },
  {
   "cell_type": "code",
   "execution_count": 0,
   "metadata": {
    "colab": {},
    "colab_type": "code",
    "id": "7HgSpBnUc0nx"
   },
   "outputs": [],
   "source": []
  },
  {
   "cell_type": "code",
   "execution_count": 9,
   "metadata": {
    "colab": {
     "base_uri": "https://localhost:8080/",
     "height": 35
    },
    "colab_type": "code",
    "executionInfo": {
     "elapsed": 1245,
     "status": "ok",
     "timestamp": 1581588678373,
     "user": {
      "displayName": "MAVYA.A Aglodia",
      "photoUrl": "https://lh3.googleusercontent.com/a-/AAuE7mByULYoTF5EC1bdOorKMYnTe5fPevMwNBkKBSdb=s64",
      "userId": "04315996873656669647"
     },
     "user_tz": -330
    },
    "id": "UxmpW2AIQWf1",
    "outputId": "1ade4ba0-159d-4f58-cdd8-4c431442d6a4"
   },
   "outputs": [
    {
     "name": "stderr",
     "output_type": "stream",
     "text": [
      "Using TensorFlow backend.\n"
     ]
    }
   ],
   "source": [
    "from tensorflow.keras.models import Sequential\n",
    "from tensorflow.keras.layers import Dense, Conv2D, MaxPooling2D, Dropout, Flatten, BatchNormalization\n",
    "from keras.preprocessing.image import ImageDataGenerator\n",
    "from keras.preprocessing import image"
   ]
  },
  {
   "cell_type": "code",
   "execution_count": 0,
   "metadata": {
    "colab": {},
    "colab_type": "code",
    "id": "TeVoJoToZ196"
   },
   "outputs": [],
   "source": [
    "train_data_dir = '/content/chest_xray/train'\n",
    "validation_data_dir = '/content/chest_xray/test'"
   ]
  },
  {
   "cell_type": "code",
   "execution_count": 11,
   "metadata": {
    "colab": {
     "base_uri": "https://localhost:8080/",
     "height": 52
    },
    "colab_type": "code",
    "executionInfo": {
     "elapsed": 1185,
     "status": "ok",
     "timestamp": 1581588680526,
     "user": {
      "displayName": "MAVYA.A Aglodia",
      "photoUrl": "https://lh3.googleusercontent.com/a-/AAuE7mByULYoTF5EC1bdOorKMYnTe5fPevMwNBkKBSdb=s64",
      "userId": "04315996873656669647"
     },
     "user_tz": -330
    },
    "id": "b7aWx7rpZ2NL",
    "outputId": "99aaa752-bfff-4b80-bbcf-e1b861825f44"
   },
   "outputs": [
    {
     "name": "stdout",
     "output_type": "stream",
     "text": [
      "Found 5216 images belonging to 2 classes.\n",
      "Found 624 images belonging to 2 classes.\n"
     ]
    }
   ],
   "source": [
    "epoch = 10\n",
    "batch_size = 64\n",
    "\n",
    "train_datagen = ImageDataGenerator(\n",
    "    rescale=1. / 255, shear_range=0.2, zoom_range=0.2, horizontal_flip=True)\n",
    "test_datagen = ImageDataGenerator(rescale=1. / 255)\n",
    "\n",
    "train_generator = train_datagen.flow_from_directory(\n",
    "    train_data_dir, target_size=(256, 256), batch_size=batch_size,\n",
    "    class_mode='binary')\n",
    "\n",
    "validation_generator = test_datagen.flow_from_directory(\n",
    "    validation_data_dir, target_size=(256, 256), batch_size=batch_size,\n",
    "    class_mode='binary')"
   ]
  },
  {
   "cell_type": "code",
   "execution_count": 12,
   "metadata": {
    "colab": {
     "base_uri": "https://localhost:8080/",
     "height": 90
    },
    "colab_type": "code",
    "executionInfo": {
     "elapsed": 1654,
     "status": "ok",
     "timestamp": 1581588682464,
     "user": {
      "displayName": "MAVYA.A Aglodia",
      "photoUrl": "https://lh3.googleusercontent.com/a-/AAuE7mByULYoTF5EC1bdOorKMYnTe5fPevMwNBkKBSdb=s64",
      "userId": "04315996873656669647"
     },
     "user_tz": -330
    },
    "id": "zsxoaCWYdoev",
    "outputId": "d069035f-ca87-437f-8125-4a1e0505528e"
   },
   "outputs": [
    {
     "name": "stdout",
     "output_type": "stream",
     "text": [
      "WARNING:tensorflow:From /usr/local/lib/python3.6/dist-packages/tensorflow_core/python/ops/resource_variable_ops.py:1630: calling BaseResourceVariable.__init__ (from tensorflow.python.ops.resource_variable_ops) with constraint is deprecated and will be removed in a future version.\n",
      "Instructions for updating:\n",
      "If using Keras pass *_constraint arguments to layers.\n"
     ]
    }
   ],
   "source": [
    "model = Sequential()\n",
    "model.add(Conv2D(32, (3, 3), padding='same', activation='relu', input_shape=(256, 256, 3)))\n",
    "model.add(Conv2D(32, (3, 3), activation='relu'))\n",
    "model.add(MaxPooling2D(pool_size=(2, 2)))\n",
    "\n",
    "model.add(Conv2D(64, (3, 3), padding='same', activation='relu'))\n",
    "model.add(Conv2D(64, (3, 3), activation='relu'))\n",
    "model.add(MaxPooling2D(pool_size=(2, 2)))\n",
    "\n",
    "model.add(Conv2D(64, (3, 3), padding='same', activation='relu'))\n",
    "model.add(Conv2D(64, (3, 3), activation='relu'))\n",
    "model.add(MaxPooling2D(pool_size=(2, 2)))\n",
    "\n",
    "model.add(Flatten())\n",
    "model.add(Dense(512, activation='relu'))\n",
    "model.add(Dropout(0.5))\n",
    "model.add(Dense(1, activation='sigmoid'))"
   ]
  },
  {
   "cell_type": "code",
   "execution_count": 13,
   "metadata": {
    "colab": {
     "base_uri": "https://localhost:8080/",
     "height": 90
    },
    "colab_type": "code",
    "executionInfo": {
     "elapsed": 781,
     "status": "ok",
     "timestamp": 1581588683053,
     "user": {
      "displayName": "MAVYA.A Aglodia",
      "photoUrl": "https://lh3.googleusercontent.com/a-/AAuE7mByULYoTF5EC1bdOorKMYnTe5fPevMwNBkKBSdb=s64",
      "userId": "04315996873656669647"
     },
     "user_tz": -330
    },
    "id": "4sifbI9IeiQo",
    "outputId": "7cdad72f-0def-4daf-bc1f-7a37cccc3e72"
   },
   "outputs": [
    {
     "name": "stdout",
     "output_type": "stream",
     "text": [
      "WARNING:tensorflow:From /usr/local/lib/python3.6/dist-packages/tensorflow_core/python/ops/nn_impl.py:183: where (from tensorflow.python.ops.array_ops) is deprecated and will be removed in a future version.\n",
      "Instructions for updating:\n",
      "Use tf.where in 2.0, which has the same broadcast rule as np.where\n"
     ]
    }
   ],
   "source": [
    "# Compile the keras model     for multiclass, the loss is categorical cross entroy and for binary, it is binary cross entropy\n",
    "model.compile(loss = 'binary_crossentropy', optimizer = 'adam', metrics=['accuracy'])"
   ]
  },
  {
   "cell_type": "code",
   "execution_count": 14,
   "metadata": {
    "colab": {
     "base_uri": "https://localhost:8080/",
     "height": 604
    },
    "colab_type": "code",
    "executionInfo": {
     "elapsed": 1230077,
     "status": "ok",
     "timestamp": 1581589915532,
     "user": {
      "displayName": "MAVYA.A Aglodia",
      "photoUrl": "https://lh3.googleusercontent.com/a-/AAuE7mByULYoTF5EC1bdOorKMYnTe5fPevMwNBkKBSdb=s64",
      "userId": "04315996873656669647"
     },
     "user_tz": -330
    },
    "id": "oGdwRSyfbYTs",
    "outputId": "73fc6df1-51e1-4c01-8ef4-516e8b97fddc"
   },
   "outputs": [
    {
     "name": "stdout",
     "output_type": "stream",
     "text": [
      "Epoch 1/10\n",
      "80/81 [============================>.] - ETA: 1s - loss: 0.5278 - acc: 0.7423Epoch 1/10\n",
      "81/81 [==============================] - 127s 2s/step - loss: 0.5262 - acc: 0.7438 - val_loss: 0.4686 - val_acc: 0.7795\n",
      "Epoch 2/10\n",
      "80/81 [============================>.] - ETA: 1s - loss: 0.2962 - acc: 0.8746Epoch 1/10\n",
      "81/81 [==============================] - 125s 2s/step - loss: 0.2954 - acc: 0.8748 - val_loss: 0.3705 - val_acc: 0.8438\n",
      "Epoch 3/10\n",
      "80/81 [============================>.] - ETA: 1s - loss: 0.2273 - acc: 0.9074Epoch 1/10\n",
      "81/81 [==============================] - 124s 2s/step - loss: 0.2268 - acc: 0.9076 - val_loss: 0.5861 - val_acc: 0.7170\n",
      "Epoch 4/10\n",
      "80/81 [============================>.] - ETA: 1s - loss: 0.2008 - acc: 0.9200Epoch 1/10\n",
      "81/81 [==============================] - 122s 2s/step - loss: 0.2009 - acc: 0.9204 - val_loss: 0.3704 - val_acc: 0.8559\n",
      "Epoch 5/10\n",
      "80/81 [============================>.] - ETA: 1s - loss: 0.1876 - acc: 0.9249Epoch 1/10\n",
      "81/81 [==============================] - 121s 1s/step - loss: 0.1891 - acc: 0.9239 - val_loss: 0.4544 - val_acc: 0.8299\n",
      "Epoch 6/10\n",
      "80/81 [============================>.] - ETA: 1s - loss: 0.1767 - acc: 0.9322Epoch 1/10\n",
      "81/81 [==============================] - 121s 1s/step - loss: 0.1772 - acc: 0.9323 - val_loss: 0.3430 - val_acc: 0.8976\n",
      "Epoch 7/10\n",
      "80/81 [============================>.] - ETA: 1s - loss: 0.1614 - acc: 0.9389Epoch 1/10\n",
      "81/81 [==============================] - 123s 2s/step - loss: 0.1625 - acc: 0.9383 - val_loss: 0.4128 - val_acc: 0.8681\n",
      "Epoch 8/10\n",
      "80/81 [============================>.] - ETA: 1s - loss: 0.1639 - acc: 0.9343Epoch 1/10\n",
      "81/81 [==============================] - 121s 1s/step - loss: 0.1634 - acc: 0.9344 - val_loss: 0.5582 - val_acc: 0.8524\n",
      "Epoch 9/10\n",
      "80/81 [============================>.] - ETA: 1s - loss: 0.1538 - acc: 0.9451Epoch 1/10\n",
      "81/81 [==============================] - 123s 2s/step - loss: 0.1535 - acc: 0.9450 - val_loss: 0.3503 - val_acc: 0.8785\n",
      "Epoch 10/10\n",
      "80/81 [============================>.] - ETA: 1s - loss: 0.1335 - acc: 0.9502Epoch 1/10\n",
      "81/81 [==============================] - 121s 1s/step - loss: 0.1333 - acc: 0.9500 - val_loss: 0.3558 - val_acc: 0.8819\n",
      "CPU times: user 23min 11s, sys: 1min 39s, total: 24min 51s\n",
      "Wall time: 20min 28s\n"
     ]
    },
    {
     "data": {
      "text/plain": [
       "<tensorflow.python.keras.callbacks.History at 0x7f2d60b694a8>"
      ]
     },
     "execution_count": 14,
     "metadata": {
      "tags": []
     },
     "output_type": "execute_result"
    }
   ],
   "source": [
    "%%time\n",
    "model.fit_generator(\n",
    "    train_generator,\n",
    "    steps_per_epoch = train_generator.n // batch_size,\n",
    "    epochs=epoch,\n",
    "    validation_data=validation_generator,\n",
    "    validation_steps=validation_generator.n // batch_size)"
   ]
  },
  {
   "cell_type": "code",
   "execution_count": 0,
   "metadata": {
    "colab": {},
    "colab_type": "code",
    "id": "Q81r7GWjedzz"
   },
   "outputs": [],
   "source": [
    "img = image.load_img('/content/chest_xray/test/NORMAL/IM-0001-0001.jpeg', target_size = (256, 256))"
   ]
  },
  {
   "cell_type": "code",
   "execution_count": 26,
   "metadata": {
    "colab": {
     "base_uri": "https://localhost:8080/",
     "height": 35
    },
    "colab_type": "code",
    "executionInfo": {
     "elapsed": 1266,
     "status": "ok",
     "timestamp": 1581590257880,
     "user": {
      "displayName": "MAVYA.A Aglodia",
      "photoUrl": "https://lh3.googleusercontent.com/a-/AAuE7mByULYoTF5EC1bdOorKMYnTe5fPevMwNBkKBSdb=s64",
      "userId": "04315996873656669647"
     },
     "user_tz": -330
    },
    "id": "l1xSyKbo9y_u",
    "outputId": "9537698b-92e9-4e4f-8cb5-e8c15174521a"
   },
   "outputs": [
    {
     "data": {
      "text/plain": [
       "array([[0.]], dtype=float32)"
      ]
     },
     "execution_count": 26,
     "metadata": {
      "tags": []
     },
     "output_type": "execute_result"
    }
   ],
   "source": [
    "img = np.array(img)\n",
    "img = np.expand_dims(img, axis = 0)\n",
    "model.predict(img)"
   ]
  },
  {
   "cell_type": "code",
   "execution_count": 19,
   "metadata": {
    "colab": {
     "base_uri": "https://localhost:8080/",
     "height": 273
    },
    "colab_type": "code",
    "executionInfo": {
     "elapsed": 2112,
     "status": "ok",
     "timestamp": 1581589987401,
     "user": {
      "displayName": "MAVYA.A Aglodia",
      "photoUrl": "https://lh3.googleusercontent.com/a-/AAuE7mByULYoTF5EC1bdOorKMYnTe5fPevMwNBkKBSdb=s64",
      "userId": "04315996873656669647"
     },
     "user_tz": -330
    },
    "id": "IAaDD6-zG0_6",
    "outputId": "54c32e74-1cdf-4e60-d9b5-a0377d3fbd3f"
   },
   "outputs": [
    {
     "data": {
      "image/png": "[encoded data removed]",
      "text/plain": [
       "<PIL.Image.Image image mode=RGB size=256x256 at 0x7F2D61B5EE10>"
      ]
     },
     "execution_count": 19,
     "metadata": {
      "tags": []
     },
     "output_type": "execute_result"
    }
   ],
   "source": [
    "img"
   ]
  },
  {
   "cell_type": "code",
   "execution_count": 0,
   "metadata": {
    "colab": {},
    "colab_type": "code",
    "id": "1YcTnYGbG_M3"
   },
   "outputs": [],
   "source": []
  }
 ],
 "metadata": {
  "accelerator": "GPU",
  "colab": {
   "name": "CNNImageFile.ipynb",
   "provenance": []
  },
  "kernelspec": {
   "display_name": "Python 3",
   "language": "python",
   "name": "python3"
  },
  "language_info": {
   "codemirror_mode": {
    "name": "ipython",
    "version": 3
   },
   "file_extension": ".py",
   "mimetype": "text/x-python",
   "name": "python",
   "nbconvert_exporter": "python",
   "pygments_lexer": "ipython3",
   "version": "3.7.3"
  }
 },
 "nbformat": 4,
 "nbformat_minor": 1
}
